{
 "cells": [
  {
   "cell_type": "markdown",
   "id": "cb667e52",
   "metadata": {},
   "source": [
    "# Network Science (HS21)\n",
    "## Assignment 4\n",
    "\n",
    "### Ben     Murphy          16-714-925\n",
    "### Florian Rüegsegger      14-714-737\n",
    "\n",
    "#### The excercise was solved together in person\n",
    "\n"
   ]
  },
  {
   "cell_type": "markdown",
   "id": "54772786",
   "metadata": {},
   "source": [
    "## A05.1"
   ]
  },
  {
   "cell_type": "code",
   "execution_count": null,
   "id": "97e9cd0a",
   "metadata": {},
   "outputs": [],
   "source": []
  }
 ],
 "metadata": {
  "kernelspec": {
   "display_name": "PyCharm (network_science_uzh)",
   "language": "python",
   "name": "pycharm-2d6ee225"
  },
  "language_info": {
   "codemirror_mode": {
    "name": "ipython",
    "version": 3
   },
   "file_extension": ".py",
   "mimetype": "text/x-python",
   "name": "python",
   "nbconvert_exporter": "python",
   "pygments_lexer": "ipython3",
   "version": "3.9.7"
  }
 },
 "nbformat": 4,
 "nbformat_minor": 5
}
