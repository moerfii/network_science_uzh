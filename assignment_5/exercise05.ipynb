{
 "cells": [
  {
   "cell_type": "markdown",
   "id": "0c5eee4a",
   "metadata": {},
   "source": [
    "# Network Science (HS21)\n",
    "## Assignment 5\n",
    "\n",
    "### Ben     Murphy          16-714-925\n",
    "### Florian Rüegsegger      14-714-737\n",
    "\n",
    "#### The excercise was solved together in person\n",
    "\n"
   ]
  },
  {
   "cell_type": "markdown",
   "id": "b157040c",
   "metadata": {},
   "source": [
    "## A05.1"
   ]
  },
  {
   "cell_type": "code",
   "execution_count": 1,
   "id": "0a4ae51d",
   "metadata": {},
   "outputs": [],
   "source": [
    "import networkx as nx\n",
    "import matplotlib.pyplot as plt\n",
    "from networkx.readwrite.gml import read_gml\n",
    "from networkx.algorithms.community.label_propagation import label_propagation_communities\n",
    "from networkx.algorithms.community.modularity_max import greedy_modularity_communities\n",
    "from networkx.algorithms.smallworld import random_reference\n",
    "from scipy.special import factorial\n",
    "from typing import Dict,Tuple,List\n",
    "import numpy as np\n",
    "import matplotlib.pyplot as plt\n",
    "import powerlaw"
   ]
  },
  {
   "cell_type": "code",
   "execution_count": 2,
   "id": "0f3c28e5",
   "metadata": {},
   "outputs": [],
   "source": [
    "def degree_distribution(graph: nx.Graph) -> Tuple[np.array,np.array]:\n",
    "    degrees = sorted([d for n,d in graph.degree()], reverse=True)\n",
    "    degrees, counts = np.unique(degrees, return_counts=True)\n",
    "    return degrees, counts\n",
    "\n",
    "def average_degree(graph: nx.Graph) -> float:\n",
    "    return sum(dict(graph.degree()).values()) / graph.number_of_nodes()\n",
    "\n",
    "\n",
    "def plot_degree_distribution(degrees: List, counts: List,label: str):\n",
    "    plt.plot(degrees,counts, label=label)\n",
    "    plt.title(\"degree distribution\")\n",
    "    plt.xlabel(\"degree\")\n",
    "    plt.ylabel(\"Counts\")\n",
    "    plt.legend()\n",
    "\n",
    "def poission_distribution(mean, degree):\n",
    "    return np.power(mean, degree) / factorial(degree) * np.exp(-mean)\n",
    "\n",
    "def exponential_distribution(mean, degree):\n",
    "    return mean**-1 * np.exp(-degree / mean) \n",
    "\n",
    "def s01(graph: nx.Graph, name: str):\n",
    "    degrees, counts = degree_distribution(graph)\n",
    "    plot_degree_distribution(degrees, counts,name)\n",
    "    plt.show()"
   ]
  },
  {
   "cell_type": "code",
   "execution_count": 3,
   "id": "c372483f",
   "metadata": {},
   "outputs": [],
   "source": [
    "graph = read_gml(\"data/graph_escort.gml\")"
   ]
  },
  {
   "cell_type": "code",
   "execution_count": 4,
   "id": "7e9a75f1",
   "metadata": {},
   "outputs": [
    {
     "name": "stdout",
     "output_type": "stream",
     "text": [
      "Calculating best minimal value for power law fit\n",
      "xmin progress: 00%\r",
      "xmin progress: 00%\r",
      "xmin progress: 01%\r",
      "xmin progress: 02%\r",
      "xmin progress: 03%\r",
      "xmin progress: 04%\r",
      "xmin progress: 05%\r",
      "xmin progress: 05%\r",
      "xmin progress: 06%\r",
      "xmin progress: 07%\r",
      "xmin progress: 08%\r",
      "xmin progress: 09%\r",
      "xmin progress: 10%\r",
      "xmin progress: 11%\r",
      "xmin progress: 11%\r",
      "xmin progress: 12%\r",
      "xmin progress: 13%\r",
      "xmin progress: 14%\r",
      "xmin progress: 15%\r",
      "xmin progress: 16%\r",
      "xmin progress: 17%\r",
      "xmin progress: 17%\r",
      "xmin progress: 18%\r",
      "xmin progress: 19%\r",
      "xmin progress: 20%\r",
      "xmin progress: 21%\r",
      "xmin progress: 22%\r",
      "xmin progress: 23%\r",
      "xmin progress: 23%\r",
      "xmin progress: 24%\r",
      "xmin progress: 25%\r",
      "xmin progress: 26%\r",
      "xmin progress: 27%\r",
      "xmin progress: 28%\r",
      "xmin progress: 29%\r",
      "xmin progress: 29%\r",
      "xmin progress: 30%\r",
      "xmin progress: 31%\r",
      "xmin progress: 32%\r",
      "xmin progress: 33%\r",
      "xmin progress: 34%\r",
      "xmin progress: 35%\r",
      "xmin progress: 35%\r",
      "xmin progress: 36%\r",
      "xmin progress: 37%\r",
      "xmin progress: 38%\r",
      "xmin progress: 39%\r",
      "xmin progress: 40%\r",
      "xmin progress: 41%\r",
      "xmin progress: 41%\r",
      "xmin progress: 42%\r",
      "xmin progress: 43%\r",
      "xmin progress: 44%\r",
      "xmin progress: 45%\r",
      "xmin progress: 46%\r",
      "xmin progress: 47%\r",
      "xmin progress: 47%\r",
      "xmin progress: 48%\r",
      "xmin progress: 49%\r",
      "xmin progress: 50%\r",
      "xmin progress: 51%\r",
      "xmin progress: 52%\r",
      "xmin progress: 52%\r",
      "xmin progress: 53%\r",
      "xmin progress: 54%\r",
      "xmin progress: 55%\r",
      "xmin progress: 56%\r",
      "xmin progress: 57%\r",
      "xmin progress: 58%\r",
      "xmin progress: 58%\r",
      "xmin progress: 59%\r",
      "xmin progress: 60%\r",
      "xmin progress: 61%\r",
      "xmin progress: 62%\r",
      "xmin progress: 63%\r",
      "xmin progress: 64%\r",
      "xmin progress: 64%\r",
      "xmin progress: 65%\r",
      "xmin progress: 66%\r",
      "xmin progress: 67%\r",
      "xmin progress: 68%\r",
      "xmin progress: 69%\r",
      "xmin progress: 70%\r",
      "xmin progress: 70%\r",
      "xmin progress: 71%\r",
      "xmin progress: 72%\r",
      "xmin progress: 73%\r",
      "xmin progress: 74%\r",
      "xmin progress: 75%\r",
      "xmin progress: 76%\r",
      "xmin progress: 76%\r",
      "xmin progress: 77%\r",
      "xmin progress: 78%\r",
      "xmin progress: 79%\r",
      "xmin progress: 80%\r",
      "xmin progress: 81%\r",
      "xmin progress: 82%\r",
      "xmin progress: 82%\r",
      "xmin progress: 83%\r",
      "xmin progress: 84%\r",
      "xmin progress: 85%\r",
      "xmin progress: 86%\r",
      "xmin progress: 87%\r",
      "xmin progress: 88%\r",
      "xmin progress: 88%\r",
      "xmin progress: 89%\r",
      "xmin progress: 90%\r",
      "xmin progress: 91%\r",
      "xmin progress: 92%\r",
      "xmin progress: 93%\r",
      "xmin progress: 94%\r",
      "xmin progress: 94%\r",
      "xmin progress: 95%\r",
      "xmin progress: 96%\r",
      "xmin progress: 97%\r",
      "xmin progress: 98%\r",
      "xmin progress: 99%\r"
     ]
    }
   ],
   "source": [
    "degrees, counts = degree_distribution(graph)\n",
    "k = np.asarray([d for d in dict(graph.degree()).values()])\n",
    "spacing = np.linspace(min(k),max(k),len(k))\n",
    "fit = powerlaw.Fit(k)"
   ]
  },
  {
   "cell_type": "code",
   "execution_count": 5,
   "id": "3f63471f",
   "metadata": {
    "scrolled": true
   },
   "outputs": [
    {
     "data": {
      "image/png": "[encoded data removed]",
      "text/plain": [
       "<Figure size 432x288 with 1 Axes>"
      ]
     },
     "metadata": {
      "needs_background": "light"
     },
     "output_type": "display_data"
    }
   ],
   "source": [
    "fit.power_law.plot_pdf(label=\"powerlaw pdf\")\n",
    "#powerlaw.plot_pdf(k,marker='o', label=\"k pdf\")\n",
    "plt.plot(spacing,exponential_distribution(average_degree(graph),spacing), label=\"exp distribution\")\n",
    "plt.plot(spacing, poission_distribution(average_degree(graph), spacing), label=\"poisson distribution\")\n",
    "plt.legend()\n",
    "plt.show()"
   ]
  },
  {
   "cell_type": "code",
   "execution_count": 14,
   "id": "1322727d",
   "metadata": {},
   "outputs": [],
   "source": [
    "graph = read_gml(\"data/graph_amazon.gml\")"
   ]
  },
  {
   "cell_type": "code",
   "execution_count": 15,
   "id": "1ae439bd",
   "metadata": {},
   "outputs": [
    {
     "name": "stdout",
     "output_type": "stream",
     "text": [
      "Calculating best minimal value for power law fit\n",
      "xmin progress: 00%\r",
      "xmin progress: 00%\r",
      "xmin progress: 01%\r",
      "xmin progress: 01%\r",
      "xmin progress: 02%\r",
      "xmin progress: 03%\r",
      "xmin progress: 03%\r",
      "xmin progress: 04%\r",
      "xmin progress: 05%\r",
      "xmin progress: 05%\r",
      "xmin progress: 06%\r",
      "xmin progress: 07%\r",
      "xmin progress: 07%\r",
      "xmin progress: 08%\r",
      "xmin progress: 09%\r",
      "xmin progress: 09%\r",
      "xmin progress: 10%\r",
      "xmin progress: 11%\r",
      "xmin progress: 11%\r",
      "xmin progress: 12%\r",
      "xmin progress: 13%\r",
      "xmin progress: 13%\r",
      "xmin progress: 14%\r",
      "xmin progress: 15%\r",
      "xmin progress: 15%\r",
      "xmin progress: 16%\r",
      "xmin progress: 17%\r",
      "xmin progress: 17%\r",
      "xmin progress: 18%\r",
      "xmin progress: 19%\r",
      "xmin progress: 19%\r",
      "xmin progress: 20%\r",
      "xmin progress: 21%\r",
      "xmin progress: 21%\r",
      "xmin progress: 22%\r",
      "xmin progress: 23%\r",
      "xmin progress: 23%\r",
      "xmin progress: 24%\r",
      "xmin progress: 25%\r",
      "xmin progress: 25%\r",
      "xmin progress: 26%\r",
      "xmin progress: 26%\r",
      "xmin progress: 27%\r",
      "xmin progress: 28%\r",
      "xmin progress: 28%\r",
      "xmin progress: 29%\r",
      "xmin progress: 30%\r",
      "xmin progress: 30%\r",
      "xmin progress: 31%\r",
      "xmin progress: 32%\r",
      "xmin progress: 32%\r",
      "xmin progress: 33%\r",
      "xmin progress: 34%\r",
      "xmin progress: 34%\r",
      "xmin progress: 35%\r",
      "xmin progress: 36%\r",
      "xmin progress: 36%\r",
      "xmin progress: 37%\r",
      "xmin progress: 38%\r",
      "xmin progress: 38%\r",
      "xmin progress: 39%\r",
      "xmin progress: 40%\r",
      "xmin progress: 40%\r",
      "xmin progress: 41%\r",
      "xmin progress: 42%\r",
      "xmin progress: 42%\r",
      "xmin progress: 43%\r",
      "xmin progress: 44%\r",
      "xmin progress: 44%\r",
      "xmin progress: 45%\r",
      "xmin progress: 46%\r",
      "xmin progress: 46%\r",
      "xmin progress: 47%\r",
      "xmin progress: 48%\r",
      "xmin progress: 48%\r",
      "xmin progress: 49%\r",
      "xmin progress: 50%\r",
      "xmin progress: 50%\r",
      "xmin progress: 51%\r",
      "xmin progress: 51%\r",
      "xmin progress: 52%\r",
      "xmin progress: 53%\r",
      "xmin progress: 53%\r",
      "xmin progress: 54%\r",
      "xmin progress: 55%\r",
      "xmin progress: 55%\r",
      "xmin progress: 56%\r",
      "xmin progress: 57%\r",
      "xmin progress: 57%\r",
      "xmin progress: 58%\r",
      "xmin progress: 59%\r",
      "xmin progress: 59%\r",
      "xmin progress: 60%\r",
      "xmin progress: 61%\r",
      "xmin progress: 61%\r",
      "xmin progress: 62%\r",
      "xmin progress: 63%\r",
      "xmin progress: 63%\r",
      "xmin progress: 64%\r",
      "xmin progress: 65%\r",
      "xmin progress: 65%\r",
      "xmin progress: 66%\r",
      "xmin progress: 67%\r",
      "xmin progress: 67%\r",
      "xmin progress: 68%\r",
      "xmin progress: 69%\r",
      "xmin progress: 69%\r",
      "xmin progress: 70%\r",
      "xmin progress: 71%\r",
      "xmin progress: 71%\r",
      "xmin progress: 72%\r",
      "xmin progress: 73%\r",
      "xmin progress: 73%\r",
      "xmin progress: 74%\r",
      "xmin progress: 75%\r",
      "xmin progress: 75%\r",
      "xmin progress: 76%\r",
      "xmin progress: 76%\r",
      "xmin progress: 77%\r",
      "xmin progress: 78%\r",
      "xmin progress: 78%\r",
      "xmin progress: 79%\r",
      "xmin progress: 80%\r",
      "xmin progress: 80%\r",
      "xmin progress: 81%\r",
      "xmin progress: 82%\r",
      "xmin progress: 82%\r",
      "xmin progress: 83%\r",
      "xmin progress: 84%\r",
      "xmin progress: 84%\r",
      "xmin progress: 85%\r",
      "xmin progress: 86%\r",
      "xmin progress: 86%\r",
      "xmin progress: 87%\r",
      "xmin progress: 88%\r",
      "xmin progress: 88%\r",
      "xmin progress: 89%\r",
      "xmin progress: 90%\r",
      "xmin progress: 90%\r",
      "xmin progress: 91%\r",
      "xmin progress: 92%\r",
      "xmin progress: 92%\r",
      "xmin progress: 93%\r",
      "xmin progress: 94%\r",
      "xmin progress: 94%\r",
      "xmin progress: 95%\r",
      "xmin progress: 96%\r",
      "xmin progress: 96%\r",
      "xmin progress: 97%\r",
      "xmin progress: 98%\r",
      "xmin progress: 98%\r",
      "xmin progress: 99%\r"
     ]
    }
   ],
   "source": [
    "degrees, counts = degree_distribution(graph)\n",
    "k = np.asarray([d for d in dict(graph.degree()).values()])\n",
    "spacing = np.linspace(min(k),max(k),len(k))\n",
    "fit = powerlaw.Fit(k)"
   ]
  },
  {
   "cell_type": "code",
   "execution_count": 16,
   "id": "b8eafbc8",
   "metadata": {},
   "outputs": [
    {
     "name": "stderr",
     "output_type": "stream",
     "text": [
      "C:\\Users\\benmu\\AppData\\Local\\Temp/ipykernel_32/3250741166.py:18: RuntimeWarning: overflow encountered in power\n",
      "  return np.power(mean, degree) / factorial(degree) * np.exp(-mean)\n",
      "C:\\Users\\benmu\\AppData\\Local\\Temp/ipykernel_32/3250741166.py:18: RuntimeWarning: invalid value encountered in true_divide\n",
      "  return np.power(mean, degree) / factorial(degree) * np.exp(-mean)\n"
     ]
    },
    {
     "data": {
      "image/png": "[encoded data removed]",
      "text/plain": [
       "<Figure size 432x288 with 1 Axes>"
      ]
     },
     "metadata": {
      "needs_background": "light"
     },
     "output_type": "display_data"
    }
   ],
   "source": [
    "fit.power_law.plot_pdf(label=\"powerlaw pdf\")\n",
    "#powerlaw.plot_pdf(k,marker='o', label=\"k pdf\")\n",
    "plt.plot(spacing,exponential_distribution(average_degree(graph),spacing), label=\"exp distribution\")\n",
    "plt.plot(spacing, poission_distribution(average_degree(graph), spacing), label=\"poisson distribution\")\n",
    "plt.legend()\n",
    "plt.show()"
   ]
  },
  {
   "cell_type": "code",
   "execution_count": 17,
   "id": "cc2a905f",
   "metadata": {},
   "outputs": [],
   "source": [
    "graph = read_gml(\"data/graph_actors.gml\")"
   ]
  },
  {
   "cell_type": "code",
   "execution_count": 18,
   "id": "8a6fb685",
   "metadata": {},
   "outputs": [
    {
     "name": "stdout",
     "output_type": "stream",
     "text": [
      "Calculating best minimal value for power law fit\n",
      "xmin progress: 99%\r"
     ]
    }
   ],
   "source": [
    "degrees, counts = degree_distribution(graph)\n",
    "k = np.asarray([d for d in dict(graph.degree()).values()])\n",
    "spacing = np.linspace(min(k),max(k),len(k))\n",
    "fit = powerlaw.Fit(k)"
   ]
  },
  {
   "cell_type": "code",
   "execution_count": 19,
   "id": "07c7e7a3",
   "metadata": {},
   "outputs": [
    {
     "name": "stderr",
     "output_type": "stream",
     "text": [
      "C:\\Users\\benmu\\AppData\\Local\\Temp/ipykernel_32/3250741166.py:18: RuntimeWarning: overflow encountered in power\n",
      "  return np.power(mean, degree) / factorial(degree) * np.exp(-mean)\n",
      "C:\\Users\\benmu\\AppData\\Local\\Temp/ipykernel_32/3250741166.py:18: RuntimeWarning: invalid value encountered in true_divide\n",
      "  return np.power(mean, degree) / factorial(degree) * np.exp(-mean)\n"
     ]
    },
    {
     "data": {
      "image/png": "[encoded data removed]",
      "text/plain": [
       "<Figure size 432x288 with 1 Axes>"
      ]
     },
     "metadata": {
      "needs_background": "light"
     },
     "output_type": "display_data"
    }
   ],
   "source": [
    "fit.power_law.plot_pdf(label=\"powerlaw pdf\")\n",
    "#powerlaw.plot_pdf(k,marker='o', label=\"k pdf\")\n",
    "plt.plot(spacing,exponential_distribution(average_degree(graph),spacing), label=\"exp distribution\")\n",
    "plt.plot(spacing, poission_distribution(average_degree(graph), spacing), label=\"poisson distribution\")\n",
    "plt.legend()\n",
    "plt.show()"
   ]
  },
  {
   "cell_type": "code",
   "execution_count": 20,
   "id": "97bc07a2",
   "metadata": {},
   "outputs": [],
   "source": [
    "graph = read_gml(\"data/graph_internet.gml\")"
   ]
  },
  {
   "cell_type": "code",
   "execution_count": 21,
   "id": "f0add230",
   "metadata": {},
   "outputs": [
    {
     "name": "stdout",
     "output_type": "stream",
     "text": [
      "Calculating best minimal value for power law fit\n",
      "xmin progress: 00%\r",
      "xmin progress: 00%\r",
      "xmin progress: 00%\r",
      "xmin progress: 01%\r",
      "xmin progress: 01%\r",
      "xmin progress: 01%\r",
      "xmin progress: 02%\r",
      "xmin progress: 02%\r",
      "xmin progress: 02%\r",
      "xmin progress: 03%\r",
      "xmin progress: 03%\r",
      "xmin progress: 03%\r",
      "xmin progress: 04%\r",
      "xmin progress: 04%\r",
      "xmin progress: 05%\r",
      "xmin progress: 05%\r",
      "xmin progress: 05%\r",
      "xmin progress: 06%\r",
      "xmin progress: 06%\r",
      "xmin progress: 06%\r",
      "xmin progress: 07%\r",
      "xmin progress: 07%\r",
      "xmin progress: 07%\r",
      "xmin progress: 08%\r",
      "xmin progress: 08%\r",
      "xmin progress: 09%\r",
      "xmin progress: 09%\r",
      "xmin progress: 09%\r",
      "xmin progress: 10%\r",
      "xmin progress: 10%\r",
      "xmin progress: 10%\r",
      "xmin progress: 11%\r",
      "xmin progress: 11%\r",
      "xmin progress: 11%\r",
      "xmin progress: 12%\r",
      "xmin progress: 12%\r",
      "xmin progress: 12%\r",
      "xmin progress: 13%\r",
      "xmin progress: 13%\r",
      "xmin progress: 14%\r",
      "xmin progress: 14%\r",
      "xmin progress: 14%\r",
      "xmin progress: 15%\r",
      "xmin progress: 15%\r",
      "xmin progress: 15%\r",
      "xmin progress: 16%\r",
      "xmin progress: 16%\r",
      "xmin progress: 16%\r",
      "xmin progress: 17%\r",
      "xmin progress: 17%\r",
      "xmin progress: 18%\r",
      "xmin progress: 18%\r",
      "xmin progress: 18%\r",
      "xmin progress: 19%\r",
      "xmin progress: 19%\r",
      "xmin progress: 19%\r",
      "xmin progress: 20%\r",
      "xmin progress: 20%\r",
      "xmin progress: 20%\r",
      "xmin progress: 21%\r",
      "xmin progress: 21%\r",
      "xmin progress: 22%\r",
      "xmin progress: 22%\r",
      "xmin progress: 22%\r",
      "xmin progress: 23%\r",
      "xmin progress: 23%\r",
      "xmin progress: 23%\r",
      "xmin progress: 24%\r",
      "xmin progress: 24%\r",
      "xmin progress: 24%\r",
      "xmin progress: 25%\r",
      "xmin progress: 25%\r",
      "xmin progress: 25%\r",
      "xmin progress: 26%\r",
      "xmin progress: 26%\r",
      "xmin progress: 27%\r",
      "xmin progress: 27%\r",
      "xmin progress: 27%\r",
      "xmin progress: 28%\r",
      "xmin progress: 28%\r",
      "xmin progress: 28%\r",
      "xmin progress: 29%\r",
      "xmin progress: 29%\r",
      "xmin progress: 29%\r",
      "xmin progress: 30%\r",
      "xmin progress: 30%\r",
      "xmin progress: 31%\r",
      "xmin progress: 31%\r",
      "xmin progress: 31%\r",
      "xmin progress: 32%\r",
      "xmin progress: 32%\r",
      "xmin progress: 32%\r",
      "xmin progress: 33%\r",
      "xmin progress: 33%\r",
      "xmin progress: 33%\r",
      "xmin progress: 34%\r",
      "xmin progress: 34%\r",
      "xmin progress: 35%\r",
      "xmin progress: 35%\r",
      "xmin progress: 35%\r",
      "xmin progress: 36%\r",
      "xmin progress: 36%\r",
      "xmin progress: 36%\r",
      "xmin progress: 37%\r",
      "xmin progress: 37%\r",
      "xmin progress: 37%\r",
      "xmin progress: 38%\r",
      "xmin progress: 38%\r",
      "xmin progress: 38%\r",
      "xmin progress: 39%\r",
      "xmin progress: 39%\r",
      "xmin progress: 40%\r",
      "xmin progress: 40%\r",
      "xmin progress: 40%\r",
      "xmin progress: 41%\r",
      "xmin progress: 41%\r",
      "xmin progress: 41%\r",
      "xmin progress: 42%\r",
      "xmin progress: 42%\r",
      "xmin progress: 42%\r",
      "xmin progress: 43%\r",
      "xmin progress: 43%\r",
      "xmin progress: 44%\r",
      "xmin progress: 44%\r",
      "xmin progress: 44%\r",
      "xmin progress: 45%\r",
      "xmin progress: 45%\r",
      "xmin progress: 45%\r",
      "xmin progress: 46%\r",
      "xmin progress: 46%\r",
      "xmin progress: 46%\r",
      "xmin progress: 47%\r",
      "xmin progress: 47%\r",
      "xmin progress: 48%\r",
      "xmin progress: 48%\r",
      "xmin progress: 48%\r",
      "xmin progress: 49%\r",
      "xmin progress: 49%\r",
      "xmin progress: 49%\r",
      "xmin progress: 50%\r",
      "xmin progress: 50%\r",
      "xmin progress: 50%\r",
      "xmin progress: 51%\r",
      "xmin progress: 51%\r",
      "xmin progress: 51%\r",
      "xmin progress: 52%\r",
      "xmin progress: 52%\r",
      "xmin progress: 53%\r",
      "xmin progress: 53%\r",
      "xmin progress: 53%\r",
      "xmin progress: 54%\r",
      "xmin progress: 54%\r",
      "xmin progress: 54%\r",
      "xmin progress: 55%\r",
      "xmin progress: 55%\r",
      "xmin progress: 55%\r",
      "xmin progress: 56%\r",
      "xmin progress: 56%\r",
      "xmin progress: 57%\r",
      "xmin progress: 57%\r",
      "xmin progress: 57%\r",
      "xmin progress: 58%\r",
      "xmin progress: 58%\r",
      "xmin progress: 58%\r",
      "xmin progress: 59%\r",
      "xmin progress: 59%\r",
      "xmin progress: 59%\r",
      "xmin progress: 60%\r",
      "xmin progress: 60%\r",
      "xmin progress: 61%\r",
      "xmin progress: 61%\r",
      "xmin progress: 61%\r",
      "xmin progress: 62%\r",
      "xmin progress: 62%\r",
      "xmin progress: 62%\r",
      "xmin progress: 63%\r",
      "xmin progress: 63%\r",
      "xmin progress: 63%\r",
      "xmin progress: 64%\r",
      "xmin progress: 64%\r",
      "xmin progress: 64%\r",
      "xmin progress: 65%\r",
      "xmin progress: 65%\r",
      "xmin progress: 66%\r",
      "xmin progress: 66%\r",
      "xmin progress: 66%\r",
      "xmin progress: 67%\r",
      "xmin progress: 67%\r",
      "xmin progress: 67%\r",
      "xmin progress: 68%\r",
      "xmin progress: 68%\r",
      "xmin progress: 68%\r",
      "xmin progress: 69%\r",
      "xmin progress: 69%\r",
      "xmin progress: 70%\r",
      "xmin progress: 70%\r",
      "xmin progress: 70%\r",
      "xmin progress: 71%\r",
      "xmin progress: 71%\r",
      "xmin progress: 71%\r",
      "xmin progress: 72%\r",
      "xmin progress: 72%\r",
      "xmin progress: 72%\r",
      "xmin progress: 73%\r",
      "xmin progress: 73%\r",
      "xmin progress: 74%\r",
      "xmin progress: 74%\r",
      "xmin progress: 74%\r",
      "xmin progress: 75%\r",
      "xmin progress: 75%\r",
      "xmin progress: 75%\r",
      "xmin progress: 76%\r",
      "xmin progress: 76%\r",
      "xmin progress: 76%\r",
      "xmin progress: 77%\r",
      "xmin progress: 77%\r",
      "xmin progress: 77%\r",
      "xmin progress: 78%\r",
      "xmin progress: 78%\r",
      "xmin progress: 79%\r",
      "xmin progress: 79%\r",
      "xmin progress: 79%\r",
      "xmin progress: 80%\r",
      "xmin progress: 80%\r",
      "xmin progress: 80%\r",
      "xmin progress: 81%\r",
      "xmin progress: 81%\r",
      "xmin progress: 81%\r",
      "xmin progress: 82%\r",
      "xmin progress: 82%\r",
      "xmin progress: 83%\r",
      "xmin progress: 83%\r",
      "xmin progress: 83%\r",
      "xmin progress: 84%\r",
      "xmin progress: 84%\r",
      "xmin progress: 84%\r",
      "xmin progress: 85%\r",
      "xmin progress: 85%\r",
      "xmin progress: 85%\r",
      "xmin progress: 86%\r",
      "xmin progress: 86%\r",
      "xmin progress: 87%\r",
      "xmin progress: 87%\r",
      "xmin progress: 87%\r",
      "xmin progress: 88%\r",
      "xmin progress: 88%\r",
      "xmin progress: 88%\r",
      "xmin progress: 89%\r",
      "xmin progress: 89%\r",
      "xmin progress: 89%\r",
      "xmin progress: 90%\r",
      "xmin progress: 90%\r",
      "xmin progress: 90%\r",
      "xmin progress: 91%\r",
      "xmin progress: 91%\r",
      "xmin progress: 92%\r",
      "xmin progress: 92%\r",
      "xmin progress: 92%\r",
      "xmin progress: 93%\r",
      "xmin progress: 93%\r",
      "xmin progress: 93%\r",
      "xmin progress: 94%\r",
      "xmin progress: 94%\r",
      "xmin progress: 94%\r",
      "xmin progress: 95%\r",
      "xmin progress: 95%\r",
      "xmin progress: 96%\r",
      "xmin progress: 96%\r",
      "xmin progress: 96%\r",
      "xmin progress: 97%\r",
      "xmin progress: 97%\r",
      "xmin progress: 97%\r",
      "xmin progress: 98%\r",
      "xmin progress: 98%\r",
      "xmin progress: 98%\r",
      "xmin progress: 99%\r",
      "xmin progress: 99%\r"
     ]
    }
   ],
   "source": [
    "degrees, counts = degree_distribution(graph)\n",
    "k = np.asarray([d for d in dict(graph.degree()).values()])\n",
    "spacing = np.linspace(min(k),max(k),len(k))\n",
    "fit = powerlaw.Fit(k)"
   ]
  },
  {
   "cell_type": "code",
   "execution_count": 22,
   "id": "40c721e8",
   "metadata": {},
   "outputs": [
    {
     "name": "stderr",
     "output_type": "stream",
     "text": [
      "C:\\Users\\benmu\\AppData\\Local\\Temp/ipykernel_32/3250741166.py:18: RuntimeWarning: overflow encountered in power\n",
      "  return np.power(mean, degree) / factorial(degree) * np.exp(-mean)\n",
      "C:\\Users\\benmu\\AppData\\Local\\Temp/ipykernel_32/3250741166.py:18: RuntimeWarning: invalid value encountered in true_divide\n",
      "  return np.power(mean, degree) / factorial(degree) * np.exp(-mean)\n"
     ]
    },
    {
     "data": {
      "image/png": "[encoded data removed]",
      "text/plain": [
       "<Figure size 432x288 with 1 Axes>"
      ]
     },
     "metadata": {
      "needs_background": "light"
     },
     "output_type": "display_data"
    }
   ],
   "source": [
    "fit.power_law.plot_pdf(label=\"powerlaw pdf\")\n",
    "#powerlaw.plot_pdf(k,marker='o', label=\"k pdf\")\n",
    "plt.plot(spacing,exponential_distribution(average_degree(graph),spacing), label=\"exp distribution\")\n",
    "plt.plot(spacing, poission_distribution(average_degree(graph), spacing), label=\"poisson distribution\")\n",
    "plt.legend()\n",
    "plt.show()"
   ]
  },
  {
   "cell_type": "markdown",
   "id": "fa73b646",
   "metadata": {},
   "source": [
    "# A05.2"
   ]
  },
  {
   "cell_type": "code",
   "execution_count": 6,
   "id": "f122f85f",
   "metadata": {},
   "outputs": [],
   "source": [
    "from networkx.generators.random_graphs import barabasi_albert_graph\n",
    "from networkx.algorithms.assortativity import degree_pearson_correlation_coefficient"
   ]
  },
  {
   "cell_type": "code",
   "execution_count": 7,
   "id": "df0e3fa3",
   "metadata": {},
   "outputs": [],
   "source": [
    "def get_data(graph):\n",
    "    data = {}\n",
    "    data[\"acc\"] = nx.average_clustering(graph)\n",
    "    data[\"assortativity\"] = degree_pearson_correlation_coefficient(graph)\n",
    "    data[\"avg_shortest_path\"] = nx.average_shortest_path_length(graph)\n",
    "    data[\"diameter\"] = nx.diameter(graph)\n",
    "    return data\n",
    "\n",
    "def plot_scatter(x, y, label):\n",
    "    plt.scatter(x, y)\n",
    "    plt.show()"
   ]
  },
  {
   "cell_type": "code",
   "execution_count": 8,
   "id": "7a349a13",
   "metadata": {},
   "outputs": [
    {
     "name": "stdout",
     "output_type": "stream",
     "text": [
      "50\n",
      "100\n",
      "500\n",
      "1000\n",
      "5000\n"
     ]
    }
   ],
   "source": [
    "ns = [ 50, 100, 500, 1000, 5000 ] \n",
    "m = 3\n",
    "\n",
    "data = {\n",
    "    \"acc\": [],\n",
    "    \"assortativity\": [],\n",
    "    \"avg_shortest_path\": [],\n",
    "    \"diameter\": []\n",
    "}\n",
    "\n",
    "data_rand = data.copy()\n",
    "\n",
    "for n in ns:\n",
    "    print(n)\n",
    "    graph = barabasi_albert_graph(n,m)\n",
    "    rand_graph = random_reference(graph)\n",
    "    g_data = get_data(graph)\n",
    "    r_data = get_data(rand_graph)\n",
    "    for key in data.keys():\n",
    "        data[key].append(g_data[key])\n",
    "        data_rand[key].append(r_data[key])\n",
    "    "
   ]
  },
  {
   "cell_type": "code",
   "execution_count": 9,
   "id": "e8670d91",
   "metadata": {},
   "outputs": [
    {
     "name": "stdout",
     "output_type": "stream",
     "text": [
      "{'A': ['q']}\n"
     ]
    }
   ],
   "source": [
    "l = {\"A\": [\"p\"]}\n",
    "m = {\"A\": [\"q\"]}\n",
    "s = l|m\n",
    "print(s)"
   ]
  },
  {
   "cell_type": "code",
   "execution_count": 10,
   "id": "c77ac1cc",
   "metadata": {},
   "outputs": [],
   "source": [
    "d_graph = get_data(graph)\n",
    "d_rand_graph = get_data(rand_graph)"
   ]
  },
  {
   "cell_type": "code",
   "execution_count": 11,
   "id": "a275d35d",
   "metadata": {},
   "outputs": [
    {
     "name": "stdout",
     "output_type": "stream",
     "text": [
      "0.009769838987792878\n"
     ]
    }
   ],
   "source": [
    "print(d_graph[\"acc\"])"
   ]
  },
  {
   "cell_type": "code",
   "execution_count": 26,
   "id": "d0efc756",
   "metadata": {},
   "outputs": [
    {
     "name": "stdout",
     "output_type": "stream",
     "text": [
      "[0.23604444444444447, 0.21748398618924936, 0.10886103079926608, 0.1411476224755637, 0.04945958650822164, 0.05106719391056861, 0.025934336558125697, 0.025617702825913344, 0.009769838987792878, 0.008784262524394479]\n"
     ]
    }
   ],
   "source": [
    "print(data_rand[\"acc\"])"
   ]
  },
  {
   "cell_type": "code",
   "execution_count": 27,
   "id": "9a958be9",
   "metadata": {},
   "outputs": [
    {
     "ename": "ValueError",
     "evalue": "x and y must be the same size",
     "output_type": "error",
     "traceback": [
      "\u001b[1;31m---------------------------------------------------------------------------\u001b[0m",
      "\u001b[1;31mValueError\u001b[0m                                Traceback (most recent call last)",
      "\u001b[1;32m~\\AppData\\Local\\Temp/ipykernel_32/3923568702.py\u001b[0m in \u001b[0;36m<module>\u001b[1;34m\u001b[0m\n\u001b[1;32m----> 1\u001b[1;33m \u001b[0mplot_scatter\u001b[0m\u001b[1;33m(\u001b[0m\u001b[0md_graph\u001b[0m\u001b[1;33m[\u001b[0m\u001b[1;34m\"acc\"\u001b[0m\u001b[1;33m]\u001b[0m\u001b[1;33m,\u001b[0m \u001b[0mns\u001b[0m\u001b[1;33m,\u001b[0m\u001b[1;34m\"acc\"\u001b[0m\u001b[1;33m)\u001b[0m\u001b[1;33m\u001b[0m\u001b[1;33m\u001b[0m\u001b[0m\n\u001b[0m",
      "\u001b[1;32m~\\AppData\\Local\\Temp/ipykernel_32/664111831.py\u001b[0m in \u001b[0;36mplot_scatter\u001b[1;34m(x, y, label)\u001b[0m\n\u001b[0;32m      8\u001b[0m \u001b[1;33m\u001b[0m\u001b[0m\n\u001b[0;32m      9\u001b[0m \u001b[1;32mdef\u001b[0m \u001b[0mplot_scatter\u001b[0m\u001b[1;33m(\u001b[0m\u001b[0mx\u001b[0m\u001b[1;33m,\u001b[0m \u001b[0my\u001b[0m\u001b[1;33m,\u001b[0m \u001b[0mlabel\u001b[0m\u001b[1;33m)\u001b[0m\u001b[1;33m:\u001b[0m\u001b[1;33m\u001b[0m\u001b[1;33m\u001b[0m\u001b[0m\n\u001b[1;32m---> 10\u001b[1;33m     \u001b[0mplt\u001b[0m\u001b[1;33m.\u001b[0m\u001b[0mscatter\u001b[0m\u001b[1;33m(\u001b[0m\u001b[0mx\u001b[0m\u001b[1;33m,\u001b[0m \u001b[0my\u001b[0m\u001b[1;33m)\u001b[0m\u001b[1;33m\u001b[0m\u001b[1;33m\u001b[0m\u001b[0m\n\u001b[0m\u001b[0;32m     11\u001b[0m     \u001b[0mplt\u001b[0m\u001b[1;33m.\u001b[0m\u001b[0mshow\u001b[0m\u001b[1;33m(\u001b[0m\u001b[1;33m)\u001b[0m\u001b[1;33m\u001b[0m\u001b[1;33m\u001b[0m\u001b[0m\n",
      "\u001b[1;32m~\\anaconda3\\envs\\networkscience\\lib\\site-packages\\matplotlib\\pyplot.py\u001b[0m in \u001b[0;36mscatter\u001b[1;34m(x, y, s, c, marker, cmap, norm, vmin, vmax, alpha, linewidths, edgecolors, plotnonfinite, data, **kwargs)\u001b[0m\n\u001b[0;32m   3066\u001b[0m         \u001b[0mvmin\u001b[0m\u001b[1;33m=\u001b[0m\u001b[1;32mNone\u001b[0m\u001b[1;33m,\u001b[0m \u001b[0mvmax\u001b[0m\u001b[1;33m=\u001b[0m\u001b[1;32mNone\u001b[0m\u001b[1;33m,\u001b[0m \u001b[0malpha\u001b[0m\u001b[1;33m=\u001b[0m\u001b[1;32mNone\u001b[0m\u001b[1;33m,\u001b[0m \u001b[0mlinewidths\u001b[0m\u001b[1;33m=\u001b[0m\u001b[1;32mNone\u001b[0m\u001b[1;33m,\u001b[0m \u001b[1;33m*\u001b[0m\u001b[1;33m,\u001b[0m\u001b[1;33m\u001b[0m\u001b[1;33m\u001b[0m\u001b[0m\n\u001b[0;32m   3067\u001b[0m         edgecolors=None, plotnonfinite=False, data=None, **kwargs):\n\u001b[1;32m-> 3068\u001b[1;33m     __ret = gca().scatter(\n\u001b[0m\u001b[0;32m   3069\u001b[0m         \u001b[0mx\u001b[0m\u001b[1;33m,\u001b[0m \u001b[0my\u001b[0m\u001b[1;33m,\u001b[0m \u001b[0ms\u001b[0m\u001b[1;33m=\u001b[0m\u001b[0ms\u001b[0m\u001b[1;33m,\u001b[0m \u001b[0mc\u001b[0m\u001b[1;33m=\u001b[0m\u001b[0mc\u001b[0m\u001b[1;33m,\u001b[0m \u001b[0mmarker\u001b[0m\u001b[1;33m=\u001b[0m\u001b[0mmarker\u001b[0m\u001b[1;33m,\u001b[0m \u001b[0mcmap\u001b[0m\u001b[1;33m=\u001b[0m\u001b[0mcmap\u001b[0m\u001b[1;33m,\u001b[0m \u001b[0mnorm\u001b[0m\u001b[1;33m=\u001b[0m\u001b[0mnorm\u001b[0m\u001b[1;33m,\u001b[0m\u001b[1;33m\u001b[0m\u001b[1;33m\u001b[0m\u001b[0m\n\u001b[0;32m   3070\u001b[0m         \u001b[0mvmin\u001b[0m\u001b[1;33m=\u001b[0m\u001b[0mvmin\u001b[0m\u001b[1;33m,\u001b[0m \u001b[0mvmax\u001b[0m\u001b[1;33m=\u001b[0m\u001b[0mvmax\u001b[0m\u001b[1;33m,\u001b[0m \u001b[0malpha\u001b[0m\u001b[1;33m=\u001b[0m\u001b[0malpha\u001b[0m\u001b[1;33m,\u001b[0m \u001b[0mlinewidths\u001b[0m\u001b[1;33m=\u001b[0m\u001b[0mlinewidths\u001b[0m\u001b[1;33m,\u001b[0m\u001b[1;33m\u001b[0m\u001b[1;33m\u001b[0m\u001b[0m\n",
      "\u001b[1;32m~\\anaconda3\\envs\\networkscience\\lib\\site-packages\\matplotlib\\__init__.py\u001b[0m in \u001b[0;36minner\u001b[1;34m(ax, data, *args, **kwargs)\u001b[0m\n\u001b[0;32m   1359\u001b[0m     \u001b[1;32mdef\u001b[0m \u001b[0minner\u001b[0m\u001b[1;33m(\u001b[0m\u001b[0max\u001b[0m\u001b[1;33m,\u001b[0m \u001b[1;33m*\u001b[0m\u001b[0margs\u001b[0m\u001b[1;33m,\u001b[0m \u001b[0mdata\u001b[0m\u001b[1;33m=\u001b[0m\u001b[1;32mNone\u001b[0m\u001b[1;33m,\u001b[0m \u001b[1;33m**\u001b[0m\u001b[0mkwargs\u001b[0m\u001b[1;33m)\u001b[0m\u001b[1;33m:\u001b[0m\u001b[1;33m\u001b[0m\u001b[1;33m\u001b[0m\u001b[0m\n\u001b[0;32m   1360\u001b[0m         \u001b[1;32mif\u001b[0m \u001b[0mdata\u001b[0m \u001b[1;32mis\u001b[0m \u001b[1;32mNone\u001b[0m\u001b[1;33m:\u001b[0m\u001b[1;33m\u001b[0m\u001b[1;33m\u001b[0m\u001b[0m\n\u001b[1;32m-> 1361\u001b[1;33m             \u001b[1;32mreturn\u001b[0m \u001b[0mfunc\u001b[0m\u001b[1;33m(\u001b[0m\u001b[0max\u001b[0m\u001b[1;33m,\u001b[0m \u001b[1;33m*\u001b[0m\u001b[0mmap\u001b[0m\u001b[1;33m(\u001b[0m\u001b[0msanitize_sequence\u001b[0m\u001b[1;33m,\u001b[0m \u001b[0margs\u001b[0m\u001b[1;33m)\u001b[0m\u001b[1;33m,\u001b[0m \u001b[1;33m**\u001b[0m\u001b[0mkwargs\u001b[0m\u001b[1;33m)\u001b[0m\u001b[1;33m\u001b[0m\u001b[1;33m\u001b[0m\u001b[0m\n\u001b[0m\u001b[0;32m   1362\u001b[0m \u001b[1;33m\u001b[0m\u001b[0m\n\u001b[0;32m   1363\u001b[0m         \u001b[0mbound\u001b[0m \u001b[1;33m=\u001b[0m \u001b[0mnew_sig\u001b[0m\u001b[1;33m.\u001b[0m\u001b[0mbind\u001b[0m\u001b[1;33m(\u001b[0m\u001b[0max\u001b[0m\u001b[1;33m,\u001b[0m \u001b[1;33m*\u001b[0m\u001b[0margs\u001b[0m\u001b[1;33m,\u001b[0m \u001b[1;33m**\u001b[0m\u001b[0mkwargs\u001b[0m\u001b[1;33m)\u001b[0m\u001b[1;33m\u001b[0m\u001b[1;33m\u001b[0m\u001b[0m\n",
      "\u001b[1;32m~\\anaconda3\\envs\\networkscience\\lib\\site-packages\\matplotlib\\axes\\_axes.py\u001b[0m in \u001b[0;36mscatter\u001b[1;34m(self, x, y, s, c, marker, cmap, norm, vmin, vmax, alpha, linewidths, edgecolors, plotnonfinite, **kwargs)\u001b[0m\n\u001b[0;32m   4496\u001b[0m         \u001b[0my\u001b[0m \u001b[1;33m=\u001b[0m \u001b[0mnp\u001b[0m\u001b[1;33m.\u001b[0m\u001b[0mma\u001b[0m\u001b[1;33m.\u001b[0m\u001b[0mravel\u001b[0m\u001b[1;33m(\u001b[0m\u001b[0my\u001b[0m\u001b[1;33m)\u001b[0m\u001b[1;33m\u001b[0m\u001b[1;33m\u001b[0m\u001b[0m\n\u001b[0;32m   4497\u001b[0m         \u001b[1;32mif\u001b[0m \u001b[0mx\u001b[0m\u001b[1;33m.\u001b[0m\u001b[0msize\u001b[0m \u001b[1;33m!=\u001b[0m \u001b[0my\u001b[0m\u001b[1;33m.\u001b[0m\u001b[0msize\u001b[0m\u001b[1;33m:\u001b[0m\u001b[1;33m\u001b[0m\u001b[1;33m\u001b[0m\u001b[0m\n\u001b[1;32m-> 4498\u001b[1;33m             \u001b[1;32mraise\u001b[0m \u001b[0mValueError\u001b[0m\u001b[1;33m(\u001b[0m\u001b[1;34m\"x and y must be the same size\"\u001b[0m\u001b[1;33m)\u001b[0m\u001b[1;33m\u001b[0m\u001b[1;33m\u001b[0m\u001b[0m\n\u001b[0m\u001b[0;32m   4499\u001b[0m \u001b[1;33m\u001b[0m\u001b[0m\n\u001b[0;32m   4500\u001b[0m         \u001b[1;32mif\u001b[0m \u001b[0ms\u001b[0m \u001b[1;32mis\u001b[0m \u001b[1;32mNone\u001b[0m\u001b[1;33m:\u001b[0m\u001b[1;33m\u001b[0m\u001b[1;33m\u001b[0m\u001b[0m\n",
      "\u001b[1;31mValueError\u001b[0m: x and y must be the same size"
     ]
    },
    {
     "data": {
      "image/png": "[encoded data removed]",
      "text/plain": [
       "<Figure size 432x288 with 1 Axes>"
      ]
     },
     "metadata": {
      "needs_background": "light"
     },
     "output_type": "display_data"
    }
   ],
   "source": [
    "plot_scatter(d_graph[\"acc\"], ns,\"acc\")"
   ]
  },
  {
   "cell_type": "code",
   "execution_count": 23,
   "id": "dd28b24d",
   "metadata": {
    "scrolled": true
   },
   "outputs": [
    {
     "data": {
      "image/png": "[encoded data removed]",
      "text/plain": [
       "<Figure size 432x288 with 1 Axes>"
      ]
     },
     "metadata": {
      "needs_background": "light"
     },
     "output_type": "display_data"
    }
   ],
   "source": [
    "plot_scatter(data['acc'], data_rand['acc'],\"acc\")"
   ]
  },
  {
   "cell_type": "code",
   "execution_count": 24,
   "id": "05599ef6",
   "metadata": {
    "scrolled": true
   },
   "outputs": [
    {
     "data": {
      "image/png": "[encoded data removed]",
      "text/plain": [
       "<Figure size 432x288 with 1 Axes>"
      ]
     },
     "metadata": {
      "needs_background": "light"
     },
     "output_type": "display_data"
    }
   ],
   "source": [
    "plot_scatter(data['assortativity'], data_rand['assortativity'],\"assortativity\")"
   ]
  },
  {
   "cell_type": "code",
   "execution_count": null,
   "id": "ed836852",
   "metadata": {},
   "outputs": [],
   "source": []
  }
 ],
 "metadata": {
  "interpreter": {
   "hash": "b2d1ba84cb207c088d6943c0f0c59a30086cac85f2ecf23f88f3741aa12b2ac4"
  },
  "kernelspec": {
   "display_name": "PyCharm (network_science_uzh)",
   "language": "python",
   "name": "pycharm-2d6ee225"
  },
  "language_info": {
   "codemirror_mode": {
    "name": "ipython",
    "version": 3
   },
   "file_extension": ".py",
   "mimetype": "text/x-python",
   "name": "python",
   "nbconvert_exporter": "python",
   "pygments_lexer": "ipython3",
   "version": "3.9.7"
  }
 },
 "nbformat": 4,
 "nbformat_minor": 5
}
