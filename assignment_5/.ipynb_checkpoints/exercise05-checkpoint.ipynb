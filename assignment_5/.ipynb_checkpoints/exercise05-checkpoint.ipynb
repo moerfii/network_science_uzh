{
 "cells": [
  {
   "cell_type": "markdown",
   "id": "f9046d38",
   "metadata": {},
   "source": [
    "# Network Science (HS21)\n",
    "## Assignment 5\n",
    "\n",
    "### Ben     Murphy          16-714-925\n",
    "### Florian Rüegsegger      14-714-737\n",
    "\n",
    "#### The excercise was solved together in person\n",
    "\n"
   ]
  },
  {
   "cell_type": "markdown",
   "id": "122b0402",
   "metadata": {},
   "source": [
    "## A05.1"
   ]
  },
  {
   "cell_type": "code",
   "execution_count": 1,
   "id": "5929c8d9",
   "metadata": {},
   "outputs": [],
   "source": [
    "import networkx as nx\n",
    "import matplotlib.pyplot as plt\n",
    "from networkx.readwrite.gml import read_gml\n",
    "from networkx.algorithms.community.label_propagation import label_propagation_communities\n",
    "from networkx.algorithms.community.modularity_max import greedy_modularity_communities\n",
    "from networkx.algorithms.smallworld import random_reference\n",
    "from scipy.special import factorial\n",
    "from typing import Dict,Tuple,List\n",
    "import numpy as np\n",
    "import matplotlib.pyplot as plt\n",
    "import powerlaw"
   ]
  },
  {
   "cell_type": "code",
   "execution_count": 2,
   "id": "dab5b69f",
   "metadata": {},
   "outputs": [],
   "source": [
    "def degree_distribution(graph: nx.Graph) -> Tuple[np.array,np.array]:\n",
    "    degrees = sorted([d for n,d in graph.degree()], reverse=True)\n",
    "    degrees, counts = np.unique(degrees, return_counts=True)\n",
    "    return degrees, counts\n",
    "\n",
    "def average_degree(graph: nx.Graph) -> float:\n",
    "    return sum(dict(graph.degree()).values()) / graph.number_of_nodes()\n",
    "\n",
    "\n",
    "def plot_degree_distribution(degrees: List, counts: List,label: str):\n",
    "    plt.plot(degrees,counts, label=label)\n",
    "    plt.title(\"degree distribution\")\n",
    "    plt.xlabel(\"degree\")\n",
    "    plt.ylabel(\"Counts\")\n",
    "    plt.legend()\n",
    "\n",
    "def poission_distribution(mean, degree):\n",
    "    return np.power(mean, degree) / factorial(degree) * np.exp(-mean)\n",
    "\n",
    "def exponential_distribution(mean, degree):\n",
    "    return mean**-1 * np.exp(-degree / mean) \n",
    "\n",
    "def s01(graph: nx.Graph, name: str):\n",
    "    degrees, counts = degree_distribution(graph)\n",
    "    plot_degree_distribution(degrees, counts,name)\n",
    "    plt.show()"
   ]
  },
  {
   "cell_type": "code",
   "execution_count": 3,
   "id": "4a940115",
   "metadata": {},
   "outputs": [],
   "source": [
    "graph = read_gml(\"data/graph_escort.gml\")\n"
   ]
  },
  {
   "cell_type": "code",
   "execution_count": 4,
   "id": "1f8fa208",
   "metadata": {},
   "outputs": [
    {
     "name": "stdout",
     "output_type": "stream",
     "text": [
      "Calculating best minimal value for power law fit\n",
      "xmin progress: 00%\r",
      "xmin progress: 00%\r",
      "xmin progress: 01%\r",
      "xmin progress: 02%\r",
      "xmin progress: 03%\r",
      "xmin progress: 04%\r",
      "xmin progress: 05%\r",
      "xmin progress: 05%\r",
      "xmin progress: 06%\r",
      "xmin progress: 07%\r",
      "xmin progress: 08%\r",
      "xmin progress: 09%\r",
      "xmin progress: 10%\r",
      "xmin progress: 11%\r",
      "xmin progress: 11%\r",
      "xmin progress: 12%\r",
      "xmin progress: 13%\r",
      "xmin progress: 14%\r",
      "xmin progress: 15%\r",
      "xmin progress: 16%\r",
      "xmin progress: 17%\r",
      "xmin progress: 17%\r",
      "xmin progress: 18%\r",
      "xmin progress: 19%\r",
      "xmin progress: 20%\r",
      "xmin progress: 21%\r",
      "xmin progress: 22%\r",
      "xmin progress: 23%\r",
      "xmin progress: 23%\r",
      "xmin progress: 24%\r",
      "xmin progress: 25%\r",
      "xmin progress: 26%\r",
      "xmin progress: 27%\r",
      "xmin progress: 28%\r",
      "xmin progress: 29%\r",
      "xmin progress: 29%\r",
      "xmin progress: 30%\r",
      "xmin progress: 31%\r",
      "xmin progress: 32%\r",
      "xmin progress: 33%\r",
      "xmin progress: 34%\r",
      "xmin progress: 35%\r",
      "xmin progress: 35%\r",
      "xmin progress: 36%\r",
      "xmin progress: 37%\r",
      "xmin progress: 38%\r",
      "xmin progress: 39%\r",
      "xmin progress: 40%\r",
      "xmin progress: 41%\r",
      "xmin progress: 41%\r",
      "xmin progress: 42%\r",
      "xmin progress: 43%\r",
      "xmin progress: 44%\r",
      "xmin progress: 45%\r",
      "xmin progress: 46%\r",
      "xmin progress: 47%\r",
      "xmin progress: 47%\r",
      "xmin progress: 48%\r",
      "xmin progress: 49%\r",
      "xmin progress: 50%\r",
      "xmin progress: 51%\r",
      "xmin progress: 52%\r",
      "xmin progress: 52%\r",
      "xmin progress: 53%\r",
      "xmin progress: 54%\r",
      "xmin progress: 55%\r",
      "xmin progress: 56%\r",
      "xmin progress: 57%\r",
      "xmin progress: 58%\r",
      "xmin progress: 58%\r",
      "xmin progress: 59%\r",
      "xmin progress: 60%\r",
      "xmin progress: 61%\r",
      "xmin progress: 62%\r",
      "xmin progress: 63%\r",
      "xmin progress: 64%\r",
      "xmin progress: 64%\r",
      "xmin progress: 65%\r",
      "xmin progress: 66%\r",
      "xmin progress: 67%\r",
      "xmin progress: 68%\r",
      "xmin progress: 69%\r",
      "xmin progress: 70%\r",
      "xmin progress: 70%\r",
      "xmin progress: 71%\r",
      "xmin progress: 72%\r",
      "xmin progress: 73%\r",
      "xmin progress: 74%\r",
      "xmin progress: 75%\r",
      "xmin progress: 76%\r",
      "xmin progress: 76%\r",
      "xmin progress: 77%\r",
      "xmin progress: 78%\r",
      "xmin progress: 79%\r",
      "xmin progress: 80%\r",
      "xmin progress: 81%\r",
      "xmin progress: 82%\r",
      "xmin progress: 82%\r",
      "xmin progress: 83%\r",
      "xmin progress: 84%\r",
      "xmin progress: 85%\r",
      "xmin progress: 86%\r",
      "xmin progress: 87%\r",
      "xmin progress: 88%\r",
      "xmin progress: 88%\r",
      "xmin progress: 89%\r",
      "xmin progress: 90%\r",
      "xmin progress: 91%\r",
      "xmin progress: 92%\r",
      "xmin progress: 93%\r",
      "xmin progress: 94%\r",
      "xmin progress: 94%\r",
      "xmin progress: 95%\r",
      "xmin progress: 96%\r",
      "xmin progress: 97%\r",
      "xmin progress: 98%\r",
      "xmin progress: 99%\r"
     ]
    }
   ],
   "source": [
    "degrees, counts = degree_distribution(graph)\n",
    "k = np.asarray([d for d in dict(graph.degree()).values()])\n",
    "spacing = np.linspace(min(k),max(k),len(k))\n",
    "fit = powerlaw.Fit(k)\n",
    "\n"
   ]
  },
  {
   "cell_type": "code",
   "execution_count": 5,
   "id": "063abf49",
   "metadata": {},
   "outputs": [
    {
     "data": {
      "image/png": "[encoded data removed]",
      "text/plain": [
       "<Figure size 432x288 with 1 Axes>"
      ]
     },
     "metadata": {
      "needs_background": "light"
     },
     "output_type": "display_data"
    }
   ],
   "source": [
    "fit.power_law.plot_pdf(label=\"powerlaw pdf\")\n",
    "#powerlaw.plot_pdf(k,marker='o', label=\"k pdf\")\n",
    "plt.plot(spacing,exponential_distribution(average_degree(graph),spacing), label=\"exp distribution\")\n",
    "plt.plot(spacing, poission_distribution(average_degree(graph), spacing), label=\"poisson distribution\")\n",
    "plt.legend()\n",
    "plt.show()"
   ]
  }
 ],
 "metadata": {
  "interpreter": {
   "hash": "b2d1ba84cb207c088d6943c0f0c59a30086cac85f2ecf23f88f3741aa12b2ac4"
  },
  "kernelspec": {
   "display_name": "PyCharm (network_science_uzh)",
   "language": "python",
   "name": "pycharm-2d6ee225"
  },
  "language_info": {
   "codemirror_mode": {
    "name": "ipython",
    "version": 3
   },
   "file_extension": ".py",
   "mimetype": "text/x-python",
   "name": "python",
   "nbconvert_exporter": "python",
   "pygments_lexer": "ipython3",
   "version": "3.9.7"
  }
 },
 "nbformat": 4,
 "nbformat_minor": 5
}
