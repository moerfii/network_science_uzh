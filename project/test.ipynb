{
 "cells": [
  {
   "cell_type": "markdown",
   "source": [
    "# Network Science\n",
    "## Final Project\n",
    "\n",
    "### What happens with robustness in the presence of interdependent networks?\n",
    "\n",
    "#### Ben Murphy 16-714-925\n",
    "#### Florian Rüegsegger 16-714-737\n",
    "#### Silvan Wehrli 15-703-275"
   ],
   "metadata": {}
  },
  {
   "cell_type": "markdown",
   "source": [
    "## Introduction"
   ],
   "metadata": {}
  },
  {
   "cell_type": "markdown",
   "source": [
    "We analyse the streetnetwork of Newyork/Manhattan in order to find where weakpoints of the system lie. In order to confirm our findings we define metrics by which we measure the speed at which cars can traverse through the network. \n",
    "\n",
    "- Randomly select two nodes and check how long it takes from Node A to B\n",
    "- check average path length\n",
    "- define metrics speed (Use edge attributes) (speedlimit, distance, time), (amount of nodes), (traffic?/real traffic data)\n",
    "- simulate traffic\n",
    "- compare to real traffic data\n",
    "- randomly attack network in order to verify our choice of nodes\n",
    "- try with other networks? Zurich?\n",
    "- \n"
   ],
   "metadata": {}
  },
  {
   "cell_type": "code",
   "execution_count": 15,
   "source": [
    "import networkx as nx\n",
    "from networkx import read_graphml\n",
    "import matplotlib.pyplot as plt\n",
    "import numpy as np\n",
    "from typing import List, Dict\n",
    "import seaborn as sns\n",
    "import osmnx as ox\n",
    "\n",
    "LOAD = True"
   ],
   "outputs": [],
   "metadata": {}
  },
  {
   "cell_type": "markdown",
   "source": [
    "## Plotting functions"
   ],
   "metadata": {}
  },
  {
   "cell_type": "code",
   "execution_count": 8,
   "source": [
    "def plot_hist(data: List[float], title: str,label: str, xlabel: str = \"\", density=True, show=True):\n",
    "    plt.hist(data, label=label, density=density)\n",
    "    plt.title(title)\n",
    "    plt.xlabel(xlabel)\n",
    "    plt.ylabel(f\"{'density' if density else 'count'} \")\n",
    "    if show:\n",
    "        plt.legend()\n",
    "        plt.show()\n",
    "    "
   ],
   "outputs": [],
   "metadata": {}
  },
  {
   "cell_type": "markdown",
   "source": [
    "# General Data"
   ],
   "metadata": {}
  },
  {
   "cell_type": "code",
   "execution_count": 16,
   "source": [
    "def clean_data(graph, key_for_removal: str) -> nx.Graph:\n",
    "    \n",
    "    new_graph = nx.DiGraph()\n",
    "    new_graph.graph = graph.graph\n",
    "    for edge in graph.edges():\n",
    "        start, end = edge\n",
    "        keys = graph[start][end][key_for_removal].keys()\n",
    "        data = {}\n",
    "        for key in keys:\n",
    "            if key in [\"highway\",\"name\", \"lanes\",\"maxspeed\",\"Bridge\",\"Tunnel\", \"length\"]:\n",
    "                data[key] = graph[start][end][key_for_removal][key]\n",
    "                if key == \"length\":\n",
    "                    data[key] = float(data[key])\n",
    "        new_graph.add_edge(start,end,**data)\n",
    "\n",
    "    for node in graph.nodes().keys():\n",
    "        for key in graph.nodes()[node].keys():\n",
    "            if key in [\"x\", \"y\"]: \n",
    "                new_graph.nodes()[node][key] = float(graph.nodes()[node][key])\n",
    "            elif key == \"highway\":\n",
    "                new_graph.nodes()[node][key] = graph.nodes()[node][key]\n",
    "\n",
    "                \n",
    "    return new_graph    \n",
    "\n",
    "\n"
   ],
   "outputs": [],
   "metadata": {}
  },
  {
   "cell_type": "code",
   "execution_count": 17,
   "source": [
    "if LOAD:\n",
    "    print(\"Downloading data\")\n",
    "    graph = ox.graph_from_place('New York, USA', network_type='drive')\n",
    "    print(\"adding the need for speed\")\n",
    "    graph = ox.speed.add_edge_speeds(graph)\n",
    "    graph = ox.speed.add_edge_travel_times(graph, precision=1)\n",
    "    print(\"Cleaning data\")\n",
    "    graph = clean_data(graph,0)\n",
    "    print(\"write to file\")\n",
    "    nx.write_gml(graph,\"data/osmnx_cleaned.gml\")\n",
    "graph = nx.read_gml(\"data/osmnx_cleaned.gml\")"
   ],
   "outputs": [],
   "metadata": {}
  },
  {
   "cell_type": "code",
   "execution_count": 15,
   "source": [
    "graph = nx.read_graphml(\"data/cleaned.graphml\")"
   ],
   "outputs": [],
   "metadata": {
    "pycharm": {
     "name": "#%%\n"
    }
   }
  },
  {
   "cell_type": "code",
   "execution_count": 20,
   "source": [
    "print(f\"n nodes: {len(graph.nodes())}\")\n",
    "print(f\"n edges: {len(graph.edges())}\")\n",
    "print(f\"graph is directed: {nx.is_directed(graph)}\")\n",
    "print(f\"graph weakly connected: {nx.is_weakly_connected(graph)}\") # Treat edges as undirected\n",
    "print(f\"graph strongly connected: {nx.is_strongly_connected(graph)}\") # Treat edges as directed"
   ],
   "outputs": [
    {
     "output_type": "stream",
     "name": "stdout",
     "text": [
      "n nodes: 54128\n",
      "n edges: 141673\n",
      "graph is directed: True\n",
      "graph weakly connected: True\n",
      "graph strongly connected: False\n"
     ]
    }
   ],
   "metadata": {}
  },
  {
   "cell_type": "markdown",
   "source": [
    "### Component analysis"
   ],
   "metadata": {}
  },
  {
   "cell_type": "code",
   "execution_count": 21,
   "source": [
    "component_size = np.array([len(value) for index, value in enumerate(sorted(nx.strongly_connected_components(graph), key=len, reverse=True))])\n",
    "plot_hist(component_size, \"Strongly connected component size distribution\", \"component\", density=False)"
   ],
   "outputs": [
    {
     "output_type": "display_data",
     "data": {
      "image/png": "[encoded data removed]",
      "text/plain": [
       "<Figure size 432x288 with 1 Axes>"
      ]
     },
     "metadata": {
      "needs_background": "light"
     }
    }
   ],
   "metadata": {}
  },
  {
   "cell_type": "markdown",
   "source": [
    "We have a lot of small unconnected components (strong connectivity)"
   ],
   "metadata": {}
  },
  {
   "cell_type": "code",
   "execution_count": 22,
   "source": [
    "plot_hist(component_size[component_size>1], \"Strongly connected components size distribution, without single components\", \"component\", density=False)"
   ],
   "outputs": [
    {
     "output_type": "display_data",
     "data": {
      "image/png": "[encoded data removed]",
      "text/plain": [
       "<Figure size 432x288 with 1 Axes>"
      ]
     },
     "metadata": {
      "needs_background": "light"
     }
    }
   ],
   "metadata": {}
  },
  {
   "cell_type": "markdown",
   "source": [
    "By removing all components with size < 2 we end up with 9 components.  \n",
    "Suggestion: Remove all components except the big one, since the small ones hardly matter"
   ],
   "metadata": {}
  },
  {
   "cell_type": "code",
   "execution_count": 23,
   "source": [
    "largest_component = list(sorted(nx.strongly_connected_components(graph), key=len, reverse=True))[0]\n",
    "graph = graph.subgraph(largest_component)"
   ],
   "outputs": [],
   "metadata": {}
  },
  {
   "cell_type": "code",
   "execution_count": 24,
   "source": [
    "\n",
    "print(f\"n nodes: {len(graph.nodes())}\")\n",
    "print(f\"n edges: {len(graph.edges())}\")\n",
    "print(f\"graph is directed: {nx.is_directed(graph)}\")\n",
    "print(f\"graph weakly connected: {nx.is_weakly_connected(graph)}\") # Treat edges as undirected\n",
    "print(f\"graph strongly connected: {nx.is_strongly_connected(graph)}\") # Treat edges as directed"
   ],
   "outputs": [
    {
     "output_type": "stream",
     "name": "stdout",
     "text": [
      "n nodes: 53769\n",
      "n edges: 140877\n",
      "graph is directed: True\n",
      "graph weakly connected: True\n",
      "graph strongly connected: True\n"
     ]
    }
   ],
   "metadata": {}
  },
  {
   "cell_type": "markdown",
   "source": [
    "### degree distribution"
   ],
   "metadata": {}
  },
  {
   "cell_type": "code",
   "execution_count": 25,
   "source": [
    "degrees = [i[1] for i in graph.degree()]\n",
    "plot_hist(degrees, \"Degree distribution\", \"degree\", \"degree\")"
   ],
   "outputs": [
    {
     "output_type": "display_data",
     "data": {
      "image/png": "[encoded data removed]",
      "text/plain": [
       "<Figure size 432x288 with 1 Axes>"
      ]
     },
     "metadata": {
      "needs_background": "light"
     }
    }
   ],
   "metadata": {}
  },
  {
   "cell_type": "code",
   "execution_count": 26,
   "source": [
    "in_degrees = [i[1] for i in graph.in_degree()]\n",
    "plot_hist(in_degrees, \"In-Degree distribution\", \"in_degree\", \"in_degree\")"
   ],
   "outputs": [
    {
     "output_type": "display_data",
     "data": {
      "image/png": "[encoded data removed]",
      "text/plain": [
       "<Figure size 432x288 with 1 Axes>"
      ]
     },
     "metadata": {
      "needs_background": "light"
     }
    }
   ],
   "metadata": {}
  },
  {
   "cell_type": "code",
   "execution_count": 27,
   "source": [
    "\n",
    "out_degrees = [i[1] for i in graph.out_degree()]\n",
    "plot_hist(out_degrees, \"Out-Degree distribution\", \"out_degree\", \"out_degree\")"
   ],
   "outputs": [
    {
     "output_type": "display_data",
     "data": {
      "image/png": "[encoded data removed]",
      "text/plain": [
       "<Figure size 432x288 with 1 Axes>"
      ]
     },
     "metadata": {
      "needs_background": "light"
     }
    }
   ],
   "metadata": {}
  },
  {
   "cell_type": "code",
   "execution_count": 28,
   "source": [
    "degrees = {\n",
    "    \"in_degrees\":in_degrees,\n",
    "    \"out_degrees\":out_degrees\n",
    "}\n",
    "sns.jointplot(x=\"in_degrees\",y=\"out_degrees\",data=degrees, size=8)\n"
   ],
   "outputs": [
    {
     "output_type": "stream",
     "name": "stderr",
     "text": [
      "C:\\Users\\benmu\\anaconda3\\envs\\networkscience\\lib\\site-packages\\seaborn\\axisgrid.py:2182: UserWarning: The `size` parameter has been renamed to `height`; please update your code.\n",
      "  warnings.warn(msg, UserWarning)\n"
     ]
    },
    {
     "output_type": "execute_result",
     "data": {
      "text/plain": [
       "<seaborn.axisgrid.JointGrid at 0x1ce51c01af0>"
      ]
     },
     "metadata": {},
     "execution_count": 28
    },
    {
     "output_type": "display_data",
     "data": {
      "image/png": "[encoded data removed]",
      "text/plain": [
       "<Figure size 576x576 with 3 Axes>"
      ]
     },
     "metadata": {
      "needs_background": "light"
     }
    }
   ],
   "metadata": {}
  },
  {
   "cell_type": "markdown",
   "source": [
    "### Assortativity"
   ],
   "metadata": {}
  },
  {
   "cell_type": "code",
   "execution_count": 29,
   "source": [
    "rand_graph = nx.directed_configuration_model(dict(graph.in_degree()).values(), dict(graph.out_degree()).values(), seed=128)\n",
    "print(f\"graph degree assortativity: {nx.degree_assortativity_coefficient(graph)}\")\n",
    "print(f\"Random graph degree assortativity: {nx.degree_assortativity_coefficient(rand_graph)}\")\n"
   ],
   "outputs": [
    {
     "output_type": "stream",
     "name": "stdout",
     "text": [
      "graph degree assortativity: 0.4490046686594745\n",
      "Random graph degree assortativity: -0.0004408664167564861\n"
     ]
    }
   ],
   "metadata": {}
  },
  {
   "cell_type": "code",
   "execution_count": 30,
   "source": [
    "print(f\"graph density: {nx.density(graph)}\")\n",
    "print(f\"rand graph density: {nx.density(rand_graph)}\")"
   ],
   "outputs": [
    {
     "output_type": "stream",
     "name": "stdout",
     "text": [
      "graph density: 4.8728635763481043e-05\n",
      "rand graph density: 4.8728635763481043e-05\n"
     ]
    }
   ],
   "metadata": {}
  },
  {
   "cell_type": "code",
   "execution_count": 45,
   "source": [
    "print(graph[\"43010059\"][\"42997670\"])"
   ],
   "outputs": [
    {
     "output_type": "stream",
     "name": "stdout",
     "text": [
      "{'name': \"[u'Ayres Road', u'USS North Carolina Road']\", 'length': 370.361794408, 'highway': 'residential'}\n"
     ]
    }
   ],
   "metadata": {}
  },
  {
   "cell_type": "code",
   "execution_count": 32,
   "source": [
    "shortest = nx.shortest_path(graph,\"43010059\",\"42485784\")\n",
    "shortest_lenght = nx.shortest_path(graph,\"43010059\",\"42485784\", weight=\"length\")\n",
    "\n",
    "print(shortest)\n",
    "print(shortest_lenght)\n"
   ],
   "outputs": [
    {
     "output_type": "stream",
     "name": "stdout",
     "text": [
      "['43010059', '42997670', '42973702', '43001626', '42967777', '43000273', '42972429', '42963994', '3788074254', '3788073410', '598367717', '411566447', '598365272', '448152999', '448151945', '598365343', '598357844', '598357866', '449588013', '449030764', '449030765', '449025477', '1369722069', '449388516', '449388143', '588152198', '1942054997', '588152221', '588152228', '588152150', '588152159', '588152360', '42497305', '1942053136', '42508608', '42508600', '42479945', '42508588', '42508585', '42486048', '42485782', '42485784']\n",
      "['43010059', '42985240', '42963092', '42963041', '43001626', '42967777', '43000273', '42972429', '42997660', '42963994', '3788074254', '3788073410', '598367717', '411566447', '598365272', '448152999', '448151945', '598365343', '598357844', '598357851', '598357852', '42460776', '42461034', '42461032', '42461020', '42461018', '42461014', '42461010', '42461007', '42461003', '42460999', '42460996', '4026460352', '4026460338', '42460985', '42460984', '42460982', '42460979', '42460966', '42460963', '2620907645', '42460956', '42460951', '42460948', '42460944', '42460941', '42460936', '42460934', '42460925', '42460911', '42460906', '42460901', '42460898', '42460897', '42480500', '42468096', '42460225', '42480505', '42480508', '42480510', '42480513', '42480516', '42480520', '42506810', '42501956', '42495242', '42512280', '42498772', '42512277', '42508759', '42486044', '42485779', '42485782', '42485784']\n"
     ]
    }
   ],
   "metadata": {}
  },
  {
   "cell_type": "code",
   "execution_count": 32,
   "source": [
    "# calculate weights\n",
    "# include speed_limit, distance, (amount of lanes, (time of day/traffic)),\n",
    "# calculate weight by looking at neighbouring nodes\n",
    "# Time = distance / speed_limit\n",
    "# Weight = (Time - min(Time)) / (max(time) - min(time)) # standardise to get values between (0,1)\n",
    "# lower weight => less time => better route\n",
    "\n"
   ],
   "outputs": [],
   "metadata": {}
  },
  {
   "cell_type": "code",
   "execution_count": 46,
   "source": [
    "graph[\"43010059\"][\"42997670\"]"
   ],
   "outputs": [
    {
     "output_type": "execute_result",
     "data": {
      "text/plain": [
       "{'name': \"[u'Ayres Road', u'USS North Carolina Road']\",\n",
       " 'length': 370.361794408,\n",
       " 'highway': 'residential'}"
      ]
     },
     "metadata": {},
     "execution_count": 46
    }
   ],
   "metadata": {}
  },
  {
   "cell_type": "code",
   "execution_count": null,
   "source": [],
   "outputs": [],
   "metadata": {
    "pycharm": {
     "name": "#%%\n"
    }
   }
  }
 ],
 "metadata": {
  "interpreter": {
   "hash": "b2d1ba84cb207c088d6943c0f0c59a30086cac85f2ecf23f88f3741aa12b2ac4"
  },
  "kernelspec": {
   "display_name": "networkscience",
   "language": "python",
   "name": "networkscience"
  },
  "language_info": {
   "codemirror_mode": {
    "name": "ipython",
    "version": 3
   },
   "file_extension": ".py",
   "mimetype": "text/x-python",
   "name": "python",
   "nbconvert_exporter": "python",
   "pygments_lexer": "ipython3",
   "version": "3.9.7"
  }
 },
 "nbformat": 4,
 "nbformat_minor": 2
}