{
 "cells": [
  {
   "cell_type": "markdown",
   "id": "8ac8605d",
   "metadata": {},
   "source": [
    "# Network Science (HS21)\n",
    "## Assignment 6\n",
    "\n",
    "### Ben     Murphy          16-714-925\n",
    "### Florian Rüegsegger      14-714-737\n",
    "\n",
    "#### The excercise was solved together in person\n",
    "\n"
   ]
  },
  {
   "cell_type": "code",
   "execution_count": 7,
   "id": "74d60053",
   "metadata": {},
   "outputs": [],
   "source": [
    "import os\n",
    "import networkx as nx\n",
    "import re\n",
    "from networkx import read_graphml\n",
    "from NEMtropy import UndirectedGraph, DirectedGraph\n",
    "from NEMtropy.network_functions import build_adjacency_from_edgelist\n",
    "import numpy as np\n",
    "from typing import Dict\n",
    "import matplotlib.pyplot as plt\n",
    "from networkx import degree_pearson_correlation_coefficient"
   ]
  },
  {
   "cell_type": "markdown",
   "id": "da83966a",
   "metadata": {},
   "source": [
    "# A06.1"
   ]
  },
  {
   "cell_type": "code",
   "execution_count": 8,
   "id": "3aa2ecc0",
   "metadata": {},
   "outputs": [],
   "source": [
    "def fit_and_sample_cm(graph: nx.Graph,cm_class, model, name: str):\n",
    "    adj_matrix = nx.to_numpy_array(graph)\n",
    "    graph = cm_class(adj_matrix)\n",
    "    graph.solve_tool(model=model)\n",
    "    graph.ensemble_sampler(10,cpu_n=1, output_dir=f\"samples/{graph.__class__.__name__}/{name}/\")\n",
    "\n",
    "\n",
    "def get_data(graph: nx.Graph, name: str, skip_sampling):\n",
    "    if not skip_sampling:\n",
    "        fit_and_sample_cm(graph, UndirectedGraph,\"cm_exp\",name)\n",
    "        fit_and_sample_cm(graph, DirectedGraph,\"dcm_exp\", name)\n",
    "    clusterings = []\n",
    "    reciprocities = []\n",
    "    for i in range(10):\n",
    "        edgelist = np.loadtxt(f\"samples/DirectedGraph/{name}/{i}.txt\")\n",
    "        net = nx.DiGraph()\n",
    "        net.add_edges_from(edgelist)\n",
    "        \n",
    "        clusterings.append(nx.average_clustering(net))\n",
    "        reciprocities.append(nx.reciprocity(net))\n",
    "\n",
    "    return np.mean(clusterings), np.mean(reciprocities)\n",
    "\n",
    "\n",
    "def plot_data(x,y,label):\n",
    "    plt.plot(x, y, label=label)\n",
    "\n",
    "def solve01(graphs: Dict,skip_sampling=False):\n",
    "    clusters_og = []\n",
    "    recip_og = []\n",
    "    clusters_model = []\n",
    "    recip_model = []\n",
    "    \n",
    "    keys = sorted([key for key in graphs.keys()])\n",
    "    for key in keys:\n",
    "        print(f\"{key}\")\n",
    "        clusters_og.append(nx.average_clustering(graphs[key]))\n",
    "        recip_og.append(nx.reciprocity(graphs[key]))\n",
    "\n",
    "        data = get_data(graphs[key], key, skip_sampling)\n",
    "        clusters_model.append(data[0])\n",
    "        recip_model.append(data[1])\n",
    "    \n",
    "    plot_data(keys, clusters_og, \"clusters_og\")\n",
    "    plot_data(keys, clusters_model, \"clusters_model\")\n",
    "    plot_data(keys, recip_og, \"recip_og\")\n",
    "    plot_data(keys, recip_model, \"recip_model\")\n",
    "    plt.legend()\n",
    "    plt.show()\n",
    "\n"
   ]
  },
  {
   "cell_type": "code",
   "execution_count": 9,
   "id": "67513bef",
   "metadata": {
    "scrolled": true
   },
   "outputs": [],
   "source": [
    "data_paths = os.listdir('data/')\n",
    "data = {}\n",
    "regex = re.compile(r'\\d+')\n",
    "for data_path in data_paths:\n",
    "    year = regex.findall(data_path)\n",
    "    data[int(year[0])] = read_graphml('data/' + data_path)"
   ]
  },
  {
   "cell_type": "code",
   "execution_count": 10,
   "id": "3fd96754",
   "metadata": {},
   "outputs": [
    {
     "name": "stdout",
     "output_type": "stream",
     "text": [
      "1992\n"
     ]
    },
    {
     "name": "stderr",
     "output_type": "stream",
     "text": [
      "C:\\Users\\benmu\\anaconda3\\envs\\networkscience\\lib\\site-packages\\numba\\core\\utils.py:544: NumbaExperimentalFeatureWarning: \u001b[1mFirst-class function type feature is experimental\u001b[0m\n",
      "  warnings.warn(\"First-class function type feature is experimental\",\n",
      "C:\\Users\\benmu\\anaconda3\\envs\\networkscience\\lib\\site-packages\\NEMtropy\\models_functions.py:461: NumbaExperimentalFeatureWarning: \u001b[1m\u001b[1mFirst-class function type feature is experimental\u001b[0m\u001b[0m\n",
      "  step_fun = args[0]\n",
      "C:\\Users\\benmu\\anaconda3\\envs\\networkscience\\lib\\site-packages\\NEMtropy\\models_functions.py:462: NumbaExperimentalFeatureWarning: \u001b[1m\u001b[1mFirst-class function type feature is experimental\u001b[0m\u001b[0m\n",
      "  arg_step_fun = args[1]\n",
      "C:\\Users\\benmu\\anaconda3\\envs\\networkscience\\lib\\site-packages\\numba\\core\\utils.py:544: NumbaExperimentalFeatureWarning: \u001b[1mFirst-class function type feature is experimental\u001b[0m\n",
      "  warnings.warn(\"First-class function type feature is experimental\",\n"
     ]
    },
    {
     "name": "stdout",
     "output_type": "stream",
     "text": [
      "\n",
      "solution error = 1.6869961427801172e-08\n"
     ]
    },
    {
     "name": "stderr",
     "output_type": "stream",
     "text": [
      "C:\\Users\\benmu\\anaconda3\\envs\\networkscience\\lib\\site-packages\\numba\\core\\utils.py:544: NumbaExperimentalFeatureWarning: \u001b[1mFirst-class function type feature is experimental\u001b[0m\n",
      "  warnings.warn(\"First-class function type feature is experimental\",\n",
      "C:\\Users\\benmu\\anaconda3\\envs\\networkscience\\lib\\site-packages\\NEMtropy\\models_functions.py:3181: NumbaExperimentalFeatureWarning: \u001b[1m\u001b[1mFirst-class function type feature is experimental\u001b[0m\u001b[0m\n",
      "  step_fun = args[0]\n",
      "C:\\Users\\benmu\\anaconda3\\envs\\networkscience\\lib\\site-packages\\NEMtropy\\models_functions.py:3182: NumbaExperimentalFeatureWarning: \u001b[1m\u001b[1mFirst-class function type feature is experimental\u001b[0m\u001b[0m\n",
      "  arg_step_fun = args[1]\n",
      "C:\\Users\\benmu\\anaconda3\\envs\\networkscience\\lib\\site-packages\\numba\\core\\utils.py:544: NumbaExperimentalFeatureWarning: \u001b[1mFirst-class function type feature is experimental\u001b[0m\n",
      "  warnings.warn(\"First-class function type feature is experimental\",\n"
     ]
    },
    {
     "name": "stdout",
     "output_type": "stream",
     "text": [
      "\n",
      "solution error = 1.3640857332575251e-09\n",
      "1993\n"
     ]
    },
    {
     "name": "stderr",
     "output_type": "stream",
     "text": [
      "C:\\Users\\benmu\\anaconda3\\envs\\networkscience\\lib\\site-packages\\numba\\core\\utils.py:544: NumbaExperimentalFeatureWarning: \u001b[1mFirst-class function type feature is experimental\u001b[0m\n",
      "  warnings.warn(\"First-class function type feature is experimental\",\n"
     ]
    },
    {
     "name": "stdout",
     "output_type": "stream",
     "text": [
      "\n",
      "solution error = 2.32273464462196e-07\n",
      "\n",
      "solution error = 5.982176531915684e-09\n",
      "1994\n",
      "\n",
      "solution error = 8.721084725493711e-07\n",
      "\n",
      "solution error = 3.759666356017988e-09\n",
      "1995\n",
      "\n",
      "solution error = 1.8203451190856867e-07\n",
      "\n",
      "solution error = 5.2841926390101435e-09\n",
      "1996\n",
      "\n",
      "solution error = 2.7372067279429757e-07\n",
      "\n",
      "solution error = 1.8565522452718142e-09\n",
      "1997\n",
      "\n",
      "solution error = 1.08560965372817e-06\n",
      "\n",
      "solution error = 3.358621825100272e-09\n",
      "1998\n",
      "\n",
      "solution error = 2.099386577469886e-06\n",
      "\n",
      "solution error = 1.940179572557099e-09\n",
      "1999\n",
      "\n",
      "solution error = 4.017849164483778e-09\n",
      "\n",
      "solution error = 3.5691414268512744e-09\n",
      "2000\n",
      "\n",
      "solution error = 6.103901739606954e-08\n",
      "\n",
      "solution error = 4.081272209077724e-09\n",
      "2001\n",
      "\n",
      "solution error = 6.575695010724303e-08\n",
      "\n",
      "solution error = 2.809525057045903e-09\n",
      "2002\n",
      "\n",
      "solution error = 7.940138857520651e-08\n",
      "\n",
      "solution error = 2.3112747271625267e-09\n"
     ]
    },
    {
     "data": {
      "image/png": "[encoded data removed]",
      "text/plain": [
       "<Figure size 432x288 with 1 Axes>"
      ]
     },
     "metadata": {
      "needs_background": "light"
     },
     "output_type": "display_data"
    }
   ],
   "source": [
    "solve01(data,skip_sampling=False)"
   ]
  },
  {
   "cell_type": "markdown",
   "id": "eddead91",
   "metadata": {},
   "source": [
    "# A06.2"
   ]
  },
  {
   "cell_type": "code",
   "execution_count": 11,
   "id": "f338cb3a",
   "metadata": {},
   "outputs": [],
   "source": [
    "def fit_and_sample_crema(graph: nx.Graph,cm_class, adjaceny, name: str):\n",
    "    adj_matrix = nx.to_numpy_array(graph)\n",
    "    graph = cm_class(adj_matrix)\n",
    "    graph.solve_tool(\n",
    "        model=\"crema\",\n",
    "        method=\"newton\",\n",
    "        initial_guess=\"random\",\n",
    "        adjacency=adjaceny,\n",
    "        method_adjacency=\"newton\"\n",
    "    )\n",
    "    graph.ensemble_sampler(10,cpu_n=1, output_dir=f\"samples/crema/{graph.__class__.__name__}/{name}/\")\n",
    "\n",
    "\n",
    "def get_data_weight(graph: nx.Graph, name: str, skip_sampling):\n",
    "    if not skip_sampling:\n",
    "        fit_and_sample_crema(graph, UndirectedGraph,\"cm_exp\",name)\n",
    "        fit_and_sample_crema(graph, DirectedGraph,\"dcm_exp\", name)\n",
    "    assortativities_directed = []\n",
    "    assortativities_undirected = []\n",
    "\n",
    "    for i in range(10):\n",
    "        edgelist = np.loadtxt(f\"samples/crema/DirectedGraph/{name}/{i}.txt\")\n",
    "        net = nx.DiGraph()\n",
    "        net.add_weighted_edges_from(edgelist)\n",
    "        assortativities_directed.append(degree_pearson_correlation_coefficient(net, weight=\"weight\"))\n",
    "\n",
    "    for i in range(10):\n",
    "        edgelist = np.loadtxt(f\"samples/crema/UndirectedGraph/{name}/{i}.txt\")\n",
    "        net = nx.Graph()\n",
    "        net.add_weighted_edges_from(edgelist)\n",
    "        assortativities_undirected.append(degree_pearson_correlation_coefficient(net, weight=\"weight\"))\n",
    "     \n",
    "    \n",
    "\n",
    "    return np.mean(assortativities_directed), np.mean(assortativities_undirected)\n",
    "\n",
    "def plot_assortativities(graphs: nx.Graph,keys):\n",
    "    in_in = []\n",
    "    in_out = []\n",
    "    out_in = []\n",
    "    out_out = []\n",
    "    in_in_model = []\n",
    "    in_out_model = []\n",
    "    out_in_model = []\n",
    "    out_out_model = []\n",
    "    for key in keys:\n",
    "        print(f\"Getting assortativity pairs for {key}\")\n",
    "        in_in.append(degree_pearson_correlation_coefficient(graphs[key], \"in\", \"in\", weight=\"weight\"))\n",
    "        in_out.append(degree_pearson_correlation_coefficient(graphs[key], \"in\", \"out\", weight=\"weight\"))\n",
    "        out_in.append(degree_pearson_correlation_coefficient(graphs[key], \"out\", \"in\", weight=\"weight\"))\n",
    "        out_out.append(degree_pearson_correlation_coefficient(graphs[key], \"out\", \"out\", weight=\"weight\"))\n",
    "        in_in_temp = []\n",
    "        in_out_temp = []\n",
    "        out_in_temp = []\n",
    "        out_out_temp = []\n",
    "        for i in range(10):\n",
    "            edgelist = np.loadtxt(f\"samples/crema/DirectedGraph/{key}/{i}.txt\")\n",
    "            net = nx.DiGraph()\n",
    "            net.add_weighted_edges_from(edgelist)\n",
    "            in_in_temp.append(degree_pearson_correlation_coefficient(net, \"in\", \"in\", weight=\"weight\"))\n",
    "            in_out_temp.append(degree_pearson_correlation_coefficient(net, \"in\", \"out\", weight=\"weight\"))\n",
    "            out_in_temp.append(degree_pearson_correlation_coefficient(net, \"out\", \"in\", weight=\"weight\"))\n",
    "            out_out_temp.append(degree_pearson_correlation_coefficient(net, \"out\", \"out\", weight=\"weight\"))\n",
    "\n",
    "        in_in_model.append(np.mean(in_in_temp))\n",
    "        in_out_model.append(np.mean(in_out_temp))\n",
    "        out_in_model.append(np.mean(out_in_temp))\n",
    "        out_out_model.append(np.mean(out_out_temp))\n",
    "\n",
    "    plot_data(keys,in_in,\"in_in\")\n",
    "    plot_data(keys,in_out, \"in_out\")\n",
    "    plot_data(keys,out_in, \"out_in\")\n",
    "    plot_data(keys,out_out, \"out_out\")\n",
    "    plot_data(keys,in_in_model,\"in_in_model\")\n",
    "    plot_data(keys,in_out_model, \"in_out_model\")\n",
    "    plot_data(keys,out_in_model, \"out_in_model\")\n",
    "    plot_data(keys,out_out_model, \"out_out_model\")\n",
    "    plt.xlabel(\"time\")\n",
    "    plt.ylabel(\"average assortativity\")\n",
    "    plt.title(\"Assortativity over time\")\n",
    "    plt.legend()\n",
    "    plt.show()\n",
    "\n",
    "\n",
    "def solve02(graphs: Dict,skip_sampling=False):\n",
    "    assort_og = []\n",
    "    assort_model_undirected = []\n",
    "    assort_model_directed = []\n",
    "    keys = sorted([key for key in graphs.keys()])\n",
    "    for key in keys:\n",
    "        print(f\"{key}\")\n",
    "        assort_og.append(degree_pearson_correlation_coefficient(graphs[key], weight=\"weight\"))\n",
    "        data = get_data_weight(graphs[key], key, skip_sampling)\n",
    "        assort_model_directed.append(data[0])\n",
    "        assort_model_undirected.append(data[1])\n",
    "    \n",
    "    plot_data(keys, assort_og, \"assort_og\")\n",
    "    plot_data(keys, assort_model_directed, \"assort_model_directed\")\n",
    "    plot_data(keys, assort_model_undirected, \"assort_model_undirected\")\n",
    "    plt.legend()\n",
    "    plt.show()\n",
    "    \n",
    "    plot_assortativities(graphs,keys)\n",
    "\n",
    "\n"
   ]
  },
  {
   "cell_type": "code",
   "execution_count": 13,
   "id": "17349b75",
   "metadata": {},
   "outputs": [
    {
     "name": "stdout",
     "output_type": "stream",
     "text": [
      "1992\n"
     ]
    },
    {
     "name": "stderr",
     "output_type": "stream",
     "text": [
      "C:\\Users\\benmu\\anaconda3\\envs\\networkscience\\lib\\site-packages\\numba\\core\\utils.py:544: NumbaExperimentalFeatureWarning: \u001b[1mFirst-class function type feature is experimental\u001b[0m\n",
      "  warnings.warn(\"First-class function type feature is experimental\",\n",
      "C:\\Users\\benmu\\anaconda3\\envs\\networkscience\\lib\\site-packages\\NEMtropy\\models_functions.py:1554: NumbaExperimentalFeatureWarning: \u001b[1m\u001b[1mFirst-class function type feature is experimental\u001b[0m\u001b[0m\n",
      "  step_fun = args[0]\n",
      "C:\\Users\\benmu\\anaconda3\\envs\\networkscience\\lib\\site-packages\\NEMtropy\\models_functions.py:1555: NumbaExperimentalFeatureWarning: \u001b[1m\u001b[1mFirst-class function type feature is experimental\u001b[0m\u001b[0m\n",
      "  arg_step_fun = args[1]\n",
      "C:\\Users\\benmu\\anaconda3\\envs\\networkscience\\lib\\site-packages\\numba\\core\\utils.py:544: NumbaExperimentalFeatureWarning: \u001b[1mFirst-class function type feature is experimental\u001b[0m\n",
      "  warnings.warn(\"First-class function type feature is experimental\",\n"
     ]
    },
    {
     "name": "stdout",
     "output_type": "stream",
     "text": [
      "\n",
      "solution error = 224626101943.69757\n"
     ]
    },
    {
     "name": "stderr",
     "output_type": "stream",
     "text": [
      "C:\\Users\\benmu\\anaconda3\\envs\\networkscience\\lib\\site-packages\\numba\\core\\utils.py:544: NumbaExperimentalFeatureWarning: \u001b[1mFirst-class function type feature is experimental\u001b[0m\n",
      "  warnings.warn(\"First-class function type feature is experimental\",\n",
      "C:\\Users\\benmu\\anaconda3\\envs\\networkscience\\lib\\site-packages\\numba\\core\\utils.py:544: NumbaExperimentalFeatureWarning: \u001b[1mFirst-class function type feature is experimental\u001b[0m\n",
      "  warnings.warn(\"First-class function type feature is experimental\",\n",
      "C:\\Users\\benmu\\anaconda3\\envs\\networkscience\\lib\\site-packages\\NEMtropy\\models_functions.py:4515: NumbaExperimentalFeatureWarning: \u001b[1m\u001b[1mFirst-class function type feature is experimental\u001b[0m\u001b[0m\n",
      "  step_fun = args[0]\n",
      "C:\\Users\\benmu\\anaconda3\\envs\\networkscience\\lib\\site-packages\\NEMtropy\\models_functions.py:4516: NumbaExperimentalFeatureWarning: \u001b[1m\u001b[1mFirst-class function type feature is experimental\u001b[0m\u001b[0m\n",
      "  arg_step_fun = args[1]\n",
      "C:\\Users\\benmu\\anaconda3\\envs\\networkscience\\lib\\site-packages\\numba\\core\\utils.py:544: NumbaExperimentalFeatureWarning: \u001b[1mFirst-class function type feature is experimental\u001b[0m\n",
      "  warnings.warn(\"First-class function type feature is experimental\",\n"
     ]
    },
    {
     "name": "stdout",
     "output_type": "stream",
     "text": [
      "\n",
      "solution error = 342169865838.4709\n",
      "1993\n"
     ]
    },
    {
     "name": "stderr",
     "output_type": "stream",
     "text": [
      "C:\\Users\\benmu\\anaconda3\\envs\\networkscience\\lib\\site-packages\\numba\\core\\utils.py:544: NumbaExperimentalFeatureWarning: \u001b[1mFirst-class function type feature is experimental\u001b[0m\n",
      "  warnings.warn(\"First-class function type feature is experimental\",\n"
     ]
    },
    {
     "name": "stdout",
     "output_type": "stream",
     "text": [
      "\n",
      "solution error = 319410002580.4287\n",
      "\n",
      "solution error = 360307417251.9904\n",
      "1994\n",
      "\n",
      "solution error = 301401277341.7314\n",
      "\n",
      "solution error = 406587686157.68\n",
      "1995\n",
      "\n",
      "solution error = 450650286904.36505\n",
      "\n",
      "solution error = 451961251483.06396\n",
      "1996\n",
      "\n",
      "solution error = 466541197743.4445\n",
      "\n",
      "solution error = 471562647005.1562\n",
      "1997\n",
      "\n",
      "solution error = 346765145395.2101\n",
      "\n",
      "solution error = 505488110566.8678\n",
      "1998\n",
      "\n",
      "solution error = 392130031604.03534\n",
      "\n",
      "solution error = 537414140266.7705\n",
      "1999\n",
      "\n",
      "solution error = 476461604048.09045\n",
      "\n",
      "solution error = 560128896867.4703\n",
      "2000\n",
      "\n",
      "solution error = 2304980204746.8535\n",
      "\n",
      "solution error = 6562899776094.2\n",
      "2001\n",
      "\n",
      "solution error = 1113041910365.7678\n",
      "\n",
      "solution error = 575902916829.6947\n",
      "2002\n",
      "\n",
      "solution error = 467085962759.71674\n",
      "\n",
      "solution error = 593149092526.9243\n"
     ]
    },
    {
     "data": {
      "image/png": "[encoded data removed]",
      "text/plain": [
       "<Figure size 432x288 with 1 Axes>"
      ]
     },
     "metadata": {
      "needs_background": "light"
     },
     "output_type": "display_data"
    },
    {
     "name": "stdout",
     "output_type": "stream",
     "text": [
      "Getting assortativity pairs for 1992\n",
      "Getting assortativity pairs for 1993\n",
      "Getting assortativity pairs for 1994\n",
      "Getting assortativity pairs for 1995\n",
      "Getting assortativity pairs for 1996\n",
      "Getting assortativity pairs for 1997\n",
      "Getting assortativity pairs for 1998\n",
      "Getting assortativity pairs for 1999\n",
      "Getting assortativity pairs for 2000\n",
      "Getting assortativity pairs for 2001\n",
      "Getting assortativity pairs for 2002\n"
     ]
    },
    {
     "data": {
      "image/png": "[encoded data removed]",
      "text/plain": [
       "<Figure size 432x288 with 1 Axes>"
      ]
     },
     "metadata": {
      "needs_background": "light"
     },
     "output_type": "display_data"
    }
   ],
   "source": [
    "solve02(data, skip_sampling=False)"
   ]
  },
  {
   "cell_type": "markdown",
   "id": "02405c44",
   "metadata": {},
   "source": [
    "# A06.3"
   ]
  },
  {
   "cell_type": "markdown",
   "id": "902c7dfd",
   "metadata": {},
   "source": [
    "### Clustering\n",
    "We see a high average clustering coefficient over all the years. It makes sense that local groups like trading with each other. Be it a similar culture or tradition. This reciprocity grew over the years as globalisation increases & trades go beyond local borders.\n",
    "### Reciprocity\n",
    "Reciprocity increases over time.\n",
    "\n",
    "### Assortativity\n",
    "The strength assortativity is slightly negativ for our original network. This would imply that there exists high degree nodes with lots of traffic from low degree nodes. However since it is only slightly negativ we cannot definitely conclude this.\n",
    "\n",
    "### Comments on conclusions\n",
    "The randomised models are able to recreate clustering coefficients and reciprocity levels of the original network. However it is unable to reproduce the assortativity of a real network on average. \n",
    "The undirected model can give us a misleading picture of the underlying relational patterns.\n",
    "The weighted model gives us a better overview of how the traffic/network intensity is distributed. "
   ]
  },
  {
   "cell_type": "code",
   "execution_count": null,
   "id": "9b45494b",
   "metadata": {},
   "outputs": [],
   "source": []
  }
 ],
 "metadata": {
  "interpreter": {
   "hash": "b2d1ba84cb207c088d6943c0f0c59a30086cac85f2ecf23f88f3741aa12b2ac4"
  },
  "kernelspec": {
   "display_name": "networkscience",
   "language": "python",
   "name": "networkscience"
  },
  "language_info": {
   "codemirror_mode": {
    "name": "ipython",
    "version": 3
   },
   "file_extension": ".py",
   "mimetype": "text/x-python",
   "name": "python",
   "nbconvert_exporter": "python",
   "pygments_lexer": "ipython3",
   "version": "3.9.7"
  }
 },
 "nbformat": 4,
 "nbformat_minor": 5
}
