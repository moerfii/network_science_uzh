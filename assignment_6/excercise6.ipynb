{
 "cells": [
  {
   "cell_type": "markdown",
   "source": [
    "# Network Science (HS21)\n",
    "## Assignment 6\n",
    "\n",
    "### Ben     Murphy          16-714-925\n",
    "### Florian Rüegsegger      14-714-737\n",
    "\n",
    "#### The excercise was solved together in person\n",
    "\n"
   ],
   "metadata": {}
  },
  {
   "cell_type": "code",
   "execution_count": 26,
   "source": [
    "import os\n",
    "import networkx as nx\n",
    "import re\n",
    "from networkx import read_graphml\n",
    "from NEMtropy import UndirectedGraph, DirectedGraph\n",
    "from NEMtropy.network_functions import build_adjacency_from_edgelist\n",
    "import numpy as np\n",
    "from typing import Dict\n",
    "import matplotlib.pyplot as plt\n"
   ],
   "outputs": [],
   "metadata": {}
  },
  {
   "cell_type": "code",
   "execution_count": 42,
   "source": [
    "def fit_and_sample_cm(graph: nx.Graph,cm_class, model, name: str):\n",
    "    adj_matrix = nx.to_numpy_array(graph)\n",
    "    graph = cm_class(adj_matrix)\n",
    "    graph.solve_tool(model=model)\n",
    "    graph.ensemble_sampler(10,cpu_n=1, output_dir=f\"samples/{graph.__class__.__name__}/{name}/\")\n",
    "\n",
    "\n",
    "def get_data(graph: nx.Graph, name: str, skip_sampling):\n",
    "    if not skip_sampling:\n",
    "        fit_and_sample_cm(graph, UndirectedGraph,\"cm_exp\",name)\n",
    "        fit_and_sample_cm(graph, DirectedGraph,\"dcm_exp\", name)\n",
    "    clusterings = []\n",
    "    reciprocities = []\n",
    "    for i in range(10):\n",
    "        edgelist = np.loadtxt(f\"samples/DirectedGraph/{name}/{i}.txt\")\n",
    "        net = nx.Graph()\n",
    "        net.add_edges_from(edgelist)\n",
    "        clusterings.append(nx.average_clustering(net))\n",
    "        reciprocities.append(nx.reciprocity(net))\n",
    "\n",
    "    return np.mean(clusterings), np.mean(reciprocities)\n",
    "\n",
    "\n",
    "def plot_data(x,y,label):\n",
    "    plt.plot(x, y, label=label)\n",
    "\n",
    "def solve01(graphs: Dict,skip_sampling=False):\n",
    "    clusters_og = []\n",
    "    recip_og = []\n",
    "    clusters_model = []\n",
    "    recip_model = []\n",
    "    \n",
    "    keys = sorted([key for key in graphs.keys()])\n",
    "    for key in keys:\n",
    "        clusters_og.append(nx.average_clustering(graphs[key]))\n",
    "        recip_og.append(nx.reciprocity(graphs[key]))\n",
    "\n",
    "        data = get_data(graphs[key], key, skip_sampling)\n",
    "        clusters_model.append(data[0])\n",
    "        recip_model.append(data[1])\n",
    "    \n",
    "    plot_data(keys, clusters_og, \"clusters_og\")\n",
    "    plot_data(keys, clusters_model, \"clusters_model\")\n",
    "    plot_data(keys, recip_og, \"recip_og\")\n",
    "    plot_data(keys, recip_model, \"recip_model\")\n",
    "    plt.legend()\n",
    "    plt.show()\n",
    "\n",
    "\n",
    "\n",
    "\n"
   ],
   "outputs": [],
   "metadata": {}
  },
  {
   "cell_type": "code",
   "execution_count": 43,
   "source": [
    "solve01(data,skip_sampling=True)"
   ],
   "outputs": [
    {
     "output_type": "stream",
     "name": "stdout",
     "text": [
      "\n",
      "solution error = 6.176398201773736e-07\n",
      "\n",
      "solution error = 1.158404927537049e-09\n",
      "\n",
      "solution error = 6.02545924266451e-09\n",
      "\n",
      "solution error = 2.4270718768093502e-09\n",
      "\n",
      "solution error = 1.1892647933109401e-07\n",
      "\n",
      "solution error = 2.815024657820686e-09\n",
      "\n",
      "solution error = 1.0502479881324689e-06\n",
      "\n",
      "solution error = 3.5610412396636093e-09\n",
      "\n",
      "solution error = 2.778542835812914e-06\n",
      "\n",
      "solution error = 2.7225404153341515e-09\n",
      "\n",
      "solution error = 9.425052382994181e-08\n",
      "\n",
      "solution error = 1.8193588857684517e-09\n",
      "\n",
      "solution error = 1.6240122278077251e-06\n",
      "\n",
      "solution error = 2.394415332673816e-09\n",
      "\n",
      "solution error = 2.956141997856321e-10\n",
      "\n",
      "solution error = 2.7416149350756314e-09\n",
      "\n",
      "solution error = 1.1825292745015759e-08\n",
      "\n",
      "solution error = 3.4204781229618675e-09\n",
      "\n",
      "solution error = 2.4829631684042397e-09\n",
      "\n",
      "solution error = 5.636824340626845e-09\n",
      "\n",
      "solution error = 3.628613853834395e-09\n",
      "\n",
      "solution error = 3.2628406643198105e-09\n"
     ]
    },
    {
     "output_type": "display_data",
     "data": {
      "image/png": "[encoded data removed]",
      "text/plain": [
       "<Figure size 432x288 with 1 Axes>"
      ]
     },
     "metadata": {
      "needs_background": "light"
     }
    }
   ],
   "metadata": {}
  },
  {
   "cell_type": "code",
   "execution_count": 32,
   "source": [
    "data_paths = os.listdir('data/')\n",
    "data = {}\n",
    "regex = re.compile(r'\\d+')\n",
    "for data_path in data_paths:\n",
    "    year = regex.findall(data_path)\n",
    "    data[int(year[0])] = read_graphml('data/' + data_path)"
   ],
   "outputs": [],
   "metadata": {
    "scrolled": true
   }
  },
  {
   "cell_type": "code",
   "execution_count": 5,
   "source": [
    "average_clustering_dict = {}\n",
    "reciprocity_dict = {}\n",
    "for key in data.keys():\n",
    "    average_clustering_dict[key] = nx.average_clustering(data[key])\n",
    "    reciprocity_dict[key] = nx.reciprocity(data[key])\n",
    "    "
   ],
   "outputs": [],
   "metadata": {}
  },
  {
   "cell_type": "code",
   "execution_count": 4,
   "source": [
    "adj_matrix_dict = {}\n",
    "for key in data.keys():\n",
    "    adj_matrix_dict[key] = nx.to_numpy_array(data[key])"
   ],
   "outputs": [],
   "metadata": {}
  },
  {
   "cell_type": "code",
   "execution_count": 24,
   "source": [
    "undirected_graph_dict = {}\n",
    "for key in adj_matrix_dict.keys():\n",
    "    undirected_graph_dict[key] = data[key].to_undirected()"
   ],
   "outputs": [],
   "metadata": {}
  },
  {
   "cell_type": "code",
   "execution_count": 36,
   "source": [
    "directed_graph_dict = {}\n",
    "for key in adj_matrix_dict.keys():\n",
    "    directed_graph_dict[key] = nx.Graph(adj_matrix_dict[key])"
   ],
   "outputs": [],
   "metadata": {}
  },
  {
   "cell_type": "code",
   "execution_count": 37,
   "source": [
    "directed_average_clustering_dict = {}\n",
    "directed_reciprocity_dict = {}\n",
    "for key in directed_graph_dict.keys():\n",
    "    directed_average_clustering_dict[key] = nx.average_clustering(directed_graph_dict[key])\n",
    "    directed_reciprocity_dict[key] = nx.reciprocity(directed_graph_dict[key])"
   ],
   "outputs": [],
   "metadata": {}
  },
  {
   "cell_type": "code",
   "execution_count": 45,
   "source": [
    "plt.plot(directed_average_clustering_dict.keys(),directed_average_clustering_dict.values(), color='red')\n",
    "plt.plot(average_clustering_dict.keys(),average_clustering_dict.values())\n"
   ],
   "outputs": [
    {
     "output_type": "execute_result",
     "data": {
      "text/plain": [
       "[<matplotlib.lines.Line2D at 0x246e57440a0>]"
      ]
     },
     "metadata": {},
     "execution_count": 45
    },
    {
     "output_type": "display_data",
     "data": {
      "image/png": "[encoded data removed]",
      "text/plain": [
       "<Figure size 432x288 with 1 Axes>"
      ]
     },
     "metadata": {
      "needs_background": "light"
     }
    }
   ],
   "metadata": {}
  },
  {
   "cell_type": "code",
   "execution_count": null,
   "source": [],
   "outputs": [],
   "metadata": {}
  }
 ],
 "metadata": {
  "kernelspec": {
   "name": "python3",
   "display_name": "Python 3.9.7 64-bit ('network_science': conda)"
  },
  "language_info": {
   "codemirror_mode": {
    "name": "ipython",
    "version": 3
   },
   "file_extension": ".py",
   "mimetype": "text/x-python",
   "name": "python",
   "nbconvert_exporter": "python",
   "pygments_lexer": "ipython3",
   "version": "3.9.7"
  },
  "interpreter": {
   "hash": "b2d1ba84cb207c088d6943c0f0c59a30086cac85f2ecf23f88f3741aa12b2ac4"
  }
 },
 "nbformat": 4,
 "nbformat_minor": 5
}