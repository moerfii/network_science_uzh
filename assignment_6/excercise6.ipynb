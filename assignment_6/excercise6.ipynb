{
 "cells": [
  {
   "cell_type": "markdown",
   "id": "00c1708d",
   "metadata": {},
   "source": [
    "# Network Science (HS21)\n",
    "## Assignment 6\n",
    "\n",
    "### Ben     Murphy          16-714-925\n",
    "### Florian Rüegsegger      14-714-737\n",
    "\n",
    "#### The excercise was solved together in person\n",
    "\n"
   ]
  },
  {
   "cell_type": "code",
   "execution_count": 34,
   "id": "4271cf71",
   "metadata": {},
   "outputs": [],
   "source": [
    "import os\n",
    "import networkx as nx\n",
    "import re\n",
    "from networkx import read_graphml\n",
    "from NEMtropy import UndirectedGraph, DirectedGraph\n",
    "import numpy as np\n",
    "import matplotlib.pyplot as plt"
   ]
  },
  {
   "cell_type": "code",
   "execution_count": 2,
   "id": "c3bab910",
   "metadata": {
    "scrolled": true
   },
   "outputs": [],
   "source": [
    "data_paths = os.listdir('data/')\n",
    "data = {}\n",
    "regex = re.compile(r'\\d+')\n",
    "for data_path in data_paths:\n",
    "    year = regex.findall(data_path)\n",
    "    data[year[0]] = read_graphml('data/' + data_path)"
   ]
  },
  {
   "cell_type": "code",
   "execution_count": 3,
   "id": "2f10af50",
   "metadata": {},
   "outputs": [],
   "source": [
    "average_clustering_dict = {}\n",
    "reciprocity_dict = {}\n",
    "for key in data.keys():\n",
    "    average_clustering_dict[key] = nx.average_clustering(data[key])\n",
    "    reciprocity_dict[key] = nx.reciprocity(data[key])\n",
    "    "
   ]
  },
  {
   "cell_type": "code",
   "execution_count": 4,
   "id": "d7d184d5",
   "metadata": {},
   "outputs": [],
   "source": [
    "adj_matrix_dict = {}\n",
    "for key in data.keys():\n",
    "    adj_matrix_dict[key] = nx.to_numpy_array(data[key])"
   ]
  },
  {
   "cell_type": "code",
   "execution_count": 24,
   "id": "7d4c5748",
   "metadata": {},
   "outputs": [],
   "source": [
    "undirected_graph_dict = {}\n",
    "for key in adj_matrix_dict.keys():\n",
    "    undirected_graph_dict[key] = data[key].to_undirected()"
   ]
  },
  {
   "cell_type": "code",
   "execution_count": 36,
   "id": "b367cf87",
   "metadata": {},
   "outputs": [],
   "source": [
    "directed_graph_dict = {}\n",
    "for key in adj_matrix_dict.keys():\n",
    "    directed_graph_dict[key] = nx.Graph(adj_matrix_dict[key])"
   ]
  },
  {
   "cell_type": "code",
   "execution_count": 37,
   "id": "52b384cf",
   "metadata": {},
   "outputs": [],
   "source": [
    "directed_average_clustering_dict = {}\n",
    "directed_reciprocity_dict = {}\n",
    "for key in directed_graph_dict.keys():\n",
    "    directed_average_clustering_dict[key] = nx.average_clustering(directed_graph_dict[key])\n",
    "    directed_reciprocity_dict[key] = nx.reciprocity(directed_graph_dict[key])"
   ]
  },
  {
   "cell_type": "code",
   "execution_count": 45,
   "id": "17e55364",
   "metadata": {},
   "outputs": [
    {
     "data": {
      "text/plain": [
       "[<matplotlib.lines.Line2D at 0x246e57440a0>]"
      ]
     },
     "execution_count": 45,
     "metadata": {},
     "output_type": "execute_result"
    },
    {
     "data": {
      "image/png": "[encoded data removed]",
      "text/plain": [
       "<Figure size 432x288 with 1 Axes>"
      ]
     },
     "metadata": {
      "needs_background": "light"
     },
     "output_type": "display_data"
    }
   ],
   "source": [
    "plt.plot(directed_average_clustering_dict.keys(),directed_average_clustering_dict.values(), color='red')\n",
    "plt.plot(average_clustering_dict.keys(),average_clustering_dict.values())\n"
   ]
  },
  {
   "cell_type": "code",
   "execution_count": null,
   "id": "48f2a660",
   "metadata": {},
   "outputs": [],
   "source": []
  }
 ],
 "metadata": {
  "kernelspec": {
   "display_name": "networkscience",
   "language": "python",
   "name": "networkscience"
  },
  "language_info": {
   "codemirror_mode": {
    "name": "ipython",
    "version": 3
   },
   "file_extension": ".py",
   "mimetype": "text/x-python",
   "name": "python",
   "nbconvert_exporter": "python",
   "pygments_lexer": "ipython3",
   "version": "3.9.7"
  }
 },
 "nbformat": 4,
 "nbformat_minor": 5
}
