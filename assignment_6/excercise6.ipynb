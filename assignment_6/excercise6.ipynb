{
 "cells": [
  {
   "cell_type": "markdown",
   "id": "00c1708d",
   "metadata": {},
   "source": [
    "# Network Science (HS21)\n",
    "## Assignment 6\n",
    "\n",
    "### Ben     Murphy          16-714-925\n",
    "### Florian Rüegsegger      14-714-737\n",
    "\n",
    "#### The excercise was solved together in person\n",
    "\n"
   ]
  },
  {
   "cell_type": "code",
   "execution_count": 1,
   "id": "4271cf71",
   "metadata": {},
   "outputs": [],
   "source": [
    "import os\n",
    "import networkx as nx\n",
    "import re\n",
    "from networkx import read_graphml\n",
    "from NEMtropy import UndirectedGraph, DirectedGraph"
   ]
  },
  {
   "cell_type": "code",
   "execution_count": 2,
   "id": "c3bab910",
   "metadata": {
    "scrolled": true
   },
   "outputs": [],
   "source": [
    "data_paths = os.listdir('data/')\n",
    "data = {}\n",
    "regex = re.compile(r'\\d+')\n",
    "for data_path in data_paths:\n",
    "    year = regex.findall(data_path)\n",
    "    data[year[0]] = read_graphml('data/' + data_path)"
   ]
  },
  {
   "cell_type": "code",
   "execution_count": 3,
   "id": "2f10af50",
   "metadata": {},
   "outputs": [],
   "source": [
    "average_clustering_dict = {}\n",
    "reciprocity_dict = {}\n",
    "for key in data.keys():\n",
    "    average_clustering_dict[key] = nx.average_clustering(data[key])\n",
    "    reciprocity_dict[key] = nx.reciprocity(data[key])\n",
    "    "
   ]
  },
  {
   "cell_type": "code",
   "execution_count": 4,
   "id": "d7d184d5",
   "metadata": {},
   "outputs": [],
   "source": [
    "adj_matrix_dict = {}\n",
    "for key in data.keys():\n",
    "    adj_matrix_dict[key] = nx.to_numpy_array(data[key])"
   ]
  },
  {
   "cell_type": "code",
   "execution_count": 8,
   "id": "7d4c5748",
   "metadata": {},
   "outputs": [
    {
     "ename": "AttributeError",
     "evalue": "'numpy.ndarray' object has no attribute 'to_undirected'",
     "output_type": "error",
     "traceback": [
      "\u001b[1;31m---------------------------------------------------------------------------\u001b[0m",
      "\u001b[1;31mAttributeError\u001b[0m                            Traceback (most recent call last)",
      "\u001b[1;32m~\\AppData\\Local\\Temp/ipykernel_26952/1210754551.py\u001b[0m in \u001b[0;36m<module>\u001b[1;34m\u001b[0m\n\u001b[0;32m      1\u001b[0m \u001b[0mundirected_graph_dict\u001b[0m \u001b[1;33m=\u001b[0m \u001b[1;33m{\u001b[0m\u001b[1;33m}\u001b[0m\u001b[1;33m\u001b[0m\u001b[1;33m\u001b[0m\u001b[0m\n\u001b[0;32m      2\u001b[0m \u001b[1;32mfor\u001b[0m \u001b[0mkey\u001b[0m \u001b[1;32min\u001b[0m \u001b[0madj_matrix_dict\u001b[0m\u001b[1;33m.\u001b[0m\u001b[0mkeys\u001b[0m\u001b[1;33m(\u001b[0m\u001b[1;33m)\u001b[0m\u001b[1;33m:\u001b[0m\u001b[1;33m\u001b[0m\u001b[1;33m\u001b[0m\u001b[0m\n\u001b[1;32m----> 3\u001b[1;33m     \u001b[0mundirected_graph_dict\u001b[0m\u001b[1;33m[\u001b[0m\u001b[0mkey\u001b[0m\u001b[1;33m]\u001b[0m \u001b[1;33m=\u001b[0m \u001b[0madj_matrix_dict\u001b[0m\u001b[1;33m[\u001b[0m\u001b[0mkey\u001b[0m\u001b[1;33m]\u001b[0m\u001b[1;33m.\u001b[0m\u001b[0mto_undirected\u001b[0m\u001b[1;33m(\u001b[0m\u001b[1;33m)\u001b[0m\u001b[1;33m\u001b[0m\u001b[1;33m\u001b[0m\u001b[0m\n\u001b[0m",
      "\u001b[1;31mAttributeError\u001b[0m: 'numpy.ndarray' object has no attribute 'to_undirected'"
     ]
    }
   ],
   "source": [
    "undirected_graph_dict = {}\n",
    "for key in adj_matrix_dict.keys():\n",
    "    undirected_graph_dict[key] = UndirectedGraph(adj_matrix_dict[key])"
   ]
  },
  {
   "cell_type": "code",
   "execution_count": 7,
   "id": "b367cf87",
   "metadata": {},
   "outputs": [],
   "source": [
    "directed_graph_dict = {}\n",
    "for key in adj_matrix_dict.keys():\n",
    "    directed_graph_dict[key] = DirectedGraph(adj_matrix_dict[key])"
   ]
  },
  {
   "cell_type": "code",
   "execution_count": null,
   "id": "52b384cf",
   "metadata": {},
   "outputs": [],
   "source": []
  }
 ],
 "metadata": {
  "kernelspec": {
   "display_name": "networkscience",
   "language": "python",
   "name": "networkscience"
  },
  "language_info": {
   "codemirror_mode": {
    "name": "ipython",
    "version": 3
   },
   "file_extension": ".py",
   "mimetype": "text/x-python",
   "name": "python",
   "nbconvert_exporter": "python",
   "pygments_lexer": "ipython3",
   "version": "3.9.7"
  }
 },
 "nbformat": 4,
 "nbformat_minor": 5
}
