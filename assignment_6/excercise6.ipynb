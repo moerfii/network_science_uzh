{
 "cells": [
  {
   "cell_type": "markdown",
   "source": [
    "# Network Science (HS21)\n",
    "## Assignment 6\n",
    "\n",
    "### Ben     Murphy          16-714-925\n",
    "### Florian Rüegsegger      14-714-737\n",
    "\n",
    "#### The excercise was solved together in person\n",
    "\n"
   ],
   "metadata": {}
  },
  {
   "cell_type": "code",
   "execution_count": 7,
   "source": [
    "import os\n",
    "import networkx as nx\n",
    "import re\n",
    "from networkx import read_graphml\n",
    "from NEMtropy import UndirectedGraph, DirectedGraph\n",
    "from NEMtropy.network_functions import build_adjacency_from_edgelist\n",
    "import numpy as np\n",
    "from typing import Dict\n",
    "import matplotlib.pyplot as plt\n",
    "from networkx import degree_pearson_correlation_coefficient"
   ],
   "outputs": [],
   "metadata": {}
  },
  {
   "cell_type": "markdown",
   "source": [
    "# A06.1"
   ],
   "metadata": {}
  },
  {
   "cell_type": "code",
   "execution_count": 13,
   "source": [
    "def fit_and_sample_cm(graph: nx.Graph,cm_class, model, name: str):\n",
    "    adj_matrix = nx.to_numpy_array(graph)\n",
    "    graph = cm_class(adj_matrix)\n",
    "    graph.solve_tool(model=model)\n",
    "    graph.ensemble_sampler(10,cpu_n=1, output_dir=f\"samples/{graph.__class__.__name__}/{name}/\")\n",
    "\n",
    "\n",
    "def get_data(graph: nx.Graph, name: str, skip_sampling):\n",
    "    if not skip_sampling:\n",
    "        fit_and_sample_cm(graph, UndirectedGraph,\"cm_exp\",name)\n",
    "        fit_and_sample_cm(graph, DirectedGraph,\"dcm_exp\", name)\n",
    "    clusterings = []\n",
    "    reciprocities = []\n",
    "    for i in range(10):\n",
    "        edgelist = np.loadtxt(f\"samples/DirectedGraph/{name}/{i}.txt\")\n",
    "        net = nx.DiGraph()\n",
    "        net.add_edges_from(edgelist)\n",
    "        \n",
    "        clusterings.append(nx.average_clustering(net))\n",
    "        reciprocities.append(nx.reciprocity(net))\n",
    "\n",
    "    return np.mean(clusterings), np.mean(reciprocities)\n",
    "\n",
    "\n",
    "def plot_data(x,y,label):\n",
    "    plt.plot(x, y, label=label)\n",
    "\n",
    "def solve01(graphs: Dict,skip_sampling=False):\n",
    "    clusters_og = []\n",
    "    recip_og = []\n",
    "    clusters_model = []\n",
    "    recip_model = []\n",
    "    \n",
    "    keys = sorted([key for key in graphs.keys()])\n",
    "    for key in keys:\n",
    "        print(f\"{key}\")\n",
    "        clusters_og.append(nx.average_clustering(graphs[key]))\n",
    "        recip_og.append(nx.reciprocity(graphs[key]))\n",
    "\n",
    "        data = get_data(graphs[key], key, skip_sampling)\n",
    "        clusters_model.append(data[0])\n",
    "        recip_model.append(data[1])\n",
    "    \n",
    "    plot_data(keys, clusters_og, \"clusters_og\")\n",
    "    plot_data(keys, clusters_model, \"clusters_model\")\n",
    "    plot_data(keys, recip_og, \"recip_og\")\n",
    "    plot_data(keys, recip_model, \"recip_model\")\n",
    "    plt.legend()\n",
    "    plt.show()\n",
    "\n"
   ],
   "outputs": [],
   "metadata": {}
  },
  {
   "cell_type": "code",
   "execution_count": 2,
   "source": [
    "data_paths = os.listdir('data/')\n",
    "data = {}\n",
    "regex = re.compile(r'\\d+')\n",
    "for data_path in data_paths:\n",
    "    year = regex.findall(data_path)\n",
    "    data[int(year[0])] = read_graphml('data/' + data_path)"
   ],
   "outputs": [],
   "metadata": {
    "scrolled": true
   }
  },
  {
   "cell_type": "code",
   "execution_count": 51,
   "source": [
    "solve01(data,skip_sampling=True)"
   ],
   "outputs": [
    {
     "output_type": "stream",
     "name": "stdout",
     "text": [
      "1992\n",
      "1993\n",
      "1994\n",
      "1995\n",
      "1996\n",
      "1997\n",
      "1998\n",
      "1999\n",
      "2000\n",
      "2001\n",
      "2002\n"
     ]
    },
    {
     "output_type": "display_data",
     "data": {
      "image/png": "[encoded data removed]",
      "text/plain": [
       "<Figure size 432x288 with 1 Axes>"
      ]
     },
     "metadata": {
      "needs_background": "light"
     }
    }
   ],
   "metadata": {}
  },
  {
   "cell_type": "markdown",
   "source": [
    "# A06.2"
   ],
   "metadata": {}
  },
  {
   "cell_type": "code",
   "execution_count": 16,
   "source": [
    "def fit_and_sample_crema(graph: nx.Graph,cm_class, adjaceny, name: str):\n",
    "    adj_matrix = nx.to_numpy_array(graph)\n",
    "    graph = cm_class(adj_matrix)\n",
    "    graph.solve_tool(\n",
    "        model=\"crema\",\n",
    "        method=\"newton\",\n",
    "        initial_guess=\"random\",\n",
    "        adjacency=adjaceny,\n",
    "        method_adjacency=\"newton\"\n",
    "    )\n",
    "    graph.ensemble_sampler(10,cpu_n=1, output_dir=f\"samples/crema/{graph.__class__.__name__}/{name}/\")\n",
    "\n",
    "\n",
    "def get_data_weight(graph: nx.Graph, name: str, skip_sampling):\n",
    "    if not skip_sampling:\n",
    "        fit_and_sample_crema(graph, UndirectedGraph,\"cm_exp\",name)\n",
    "        fit_and_sample_crema(graph, DirectedGraph,\"dcm_exp\", name)\n",
    "    assortativities_directed = []\n",
    "    assortativities_undirected = []\n",
    "\n",
    "    for i in range(10):\n",
    "        edgelist = np.loadtxt(f\"samples/crema/DirectedGraph/{name}/{i}.txt\")\n",
    "        net = nx.DiGraph()\n",
    "        net.add_weighted_edges_from(edgelist)\n",
    "        assortativities_directed.append(degree_pearson_correlation_coefficient(net, weight=\"weight\"))\n",
    "\n",
    "    for i in range(10):\n",
    "        edgelist = np.loadtxt(f\"samples/crema/UndirectedGraph/{name}/{i}.txt\")\n",
    "        net = nx.Graph()\n",
    "        net.add_weighted_edges_from(edgelist)\n",
    "        assortativities_undirected.append(degree_pearson_correlation_coefficient(net, weight=\"weight\"))\n",
    "     \n",
    "    \n",
    "\n",
    "    return np.mean(assortativities_directed), np.mean(assortativities_undirected)\n",
    "\n",
    "def solve02(graphs: Dict,skip_sampling=False):\n",
    "    assort_og = []\n",
    "    assort_model_undirected = []\n",
    "    assort_model_directed = []\n",
    "    keys = sorted([key for key in graphs.keys()])\n",
    "    for key in keys:\n",
    "        print(f\"{key}\")\n",
    "        assort_og.append(degree_pearson_correlation_coefficient(graphs[key], weight=\"weight\"))\n",
    "        data = get_data_weight(graphs[key], key, skip_sampling)\n",
    "        assort_model_directed.append(data[0])\n",
    "        assort_model_undirected.append(data[1])\n",
    "    \n",
    "    plot_data(keys, assort_og, \"assort_og\")\n",
    "    plot_data(keys, assort_model_directed, \"assort_model_directed\")\n",
    "    plot_data(keys, assort_model_undirected, \"assort_model_undirected\")\n",
    "    plt.legend()\n",
    "    plt.show()\n",
    "\n",
    "\n"
   ],
   "outputs": [],
   "metadata": {}
  },
  {
   "cell_type": "code",
   "execution_count": 17,
   "source": [
    "solve02(data, skip_sampling=True)"
   ],
   "outputs": [
    {
     "output_type": "stream",
     "name": "stdout",
     "text": [
      "1992\n",
      "1993\n",
      "1994\n",
      "1995\n",
      "1996\n",
      "1997\n",
      "1998\n",
      "1999\n",
      "2000\n",
      "2001\n",
      "2002\n"
     ]
    },
    {
     "output_type": "display_data",
     "data": {
      "image/png": "[encoded data removed]",
      "text/plain": [
       "<Figure size 432x288 with 1 Axes>"
      ]
     },
     "metadata": {
      "needs_background": "light"
     }
    }
   ],
   "metadata": {}
  }
 ],
 "metadata": {
  "kernelspec": {
   "name": "python3",
   "display_name": "Python 3.9.7 64-bit ('network_science': conda)"
  },
  "language_info": {
   "codemirror_mode": {
    "name": "ipython",
    "version": 3
   },
   "file_extension": ".py",
   "mimetype": "text/x-python",
   "name": "python",
   "nbconvert_exporter": "python",
   "pygments_lexer": "ipython3",
   "version": "3.9.7"
  },
  "interpreter": {
   "hash": "b2d1ba84cb207c088d6943c0f0c59a30086cac85f2ecf23f88f3741aa12b2ac4"
  }
 },
 "nbformat": 4,
 "nbformat_minor": 5
}