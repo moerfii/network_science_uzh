{
 "cells": [
  {
   "cell_type": "markdown",
   "id": "00c1708d",
   "metadata": {},
   "source": [
    "# Network Science (HS21)\n",
    "## Assignment 6\n",
    "\n",
    "### Ben     Murphy          16-714-925\n",
    "### Florian Rüegsegger      14-714-737\n",
    "\n",
    "#### The excercise was solved together in person\n",
    "\n"
   ]
  },
  {
   "cell_type": "code",
   "execution_count": 1,
   "id": "4271cf71",
   "metadata": {},
   "outputs": [],
   "source": [
    "import os\n",
    "import networkx as nx\n",
    "import re\n",
    "from networkx import read_graphml\n",
    "from NEMtropy import UndirectedGraph, DirectedGraph"
   ]
  },
  {
   "cell_type": "code",
   "execution_count": 2,
   "id": "c3bab910",
   "metadata": {
    "scrolled": true
   },
   "outputs": [],
   "source": [
    "data_paths = os.listdir('data/')\n",
    "data = {}\n",
    "regex = re.compile(r'\\d+')\n",
    "for data_path in data_paths:\n",
    "    year = regex.findall(data_path)\n",
    "    data[year[0]] = read_graphml('data/' + data_path)"
   ]
  },
  {
   "cell_type": "code",
   "execution_count": 3,
   "id": "2f10af50",
   "metadata": {},
   "outputs": [],
   "source": [
    "average_clustering_dict = {}\n",
    "reciprocity_dict = {}\n",
    "for key in data.keys():\n",
    "    average_clustering_dict[key] = nx.average_clustering(data[key])\n",
    "    reciprocity_dict[key] = nx.reciprocity(data[key])\n",
    "    "
   ]
  },
  {
   "cell_type": "code",
   "execution_count": 4,
   "id": "d7d184d5",
   "metadata": {},
   "outputs": [],
   "source": [
    "adj_matrix_dict = {}\n",
    "for key in data.keys():\n",
    "    adj_matrix_dict[key] = nx.to_numpy_array(data[key])"
   ]
  },
  {
   "cell_type": "code",
   "execution_count": 5,
   "id": "7d4c5748",
   "metadata": {},
   "outputs": [],
   "source": [
    "undirected_graph_dict = {}\n",
    "for key in adj_matrix_dict.keys():\n",
    "    undirected_graph_dict[key] = UndirectedGraph(adj_matrix_dict[key])"
   ]
  },
  {
   "cell_type": "code",
   "execution_count": 6,
   "id": "b367cf87",
   "metadata": {},
   "outputs": [],
   "source": [
    "directed_graph_dict = {}\n",
    "for key in adj_matrix_dict.keys():\n",
    "    directed_graph_dict[key] = DirectedGraph(adj_matrix_dict[key])"
   ]
  },
  {
   "cell_type": "code",
   "execution_count": null,
   "id": "52b384cf",
   "metadata": {},
   "outputs": [],
   "source": []
  }
 ],
 "metadata": {
  "kernelspec": {
   "display_name": "networkscience",
   "language": "python",
   "name": "networkscience"
  },
  "language_info": {
   "codemirror_mode": {
    "name": "ipython",
    "version": 3
   },
   "file_extension": ".py",
   "mimetype": "text/x-python",
   "name": "python",
   "nbconvert_exporter": "python",
   "pygments_lexer": "ipython3",
   "version": "3.9.7"
  }
 },
 "nbformat": 4,
 "nbformat_minor": 5
}
